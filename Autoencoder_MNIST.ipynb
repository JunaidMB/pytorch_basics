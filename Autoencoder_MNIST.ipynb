{
  "nbformat": 4,
  "nbformat_minor": 0,
  "metadata": {
    "colab": {
      "provenance": [],
      "gpuType": "A100"
    },
    "kernelspec": {
      "name": "python3",
      "display_name": "Python 3"
    },
    "language_info": {
      "name": "python"
    },
    "accelerator": "GPU"
  },
  "cells": [
    {
      "cell_type": "markdown",
      "source": [
        "# Apply an Autoencoder to MNIST data"
      ],
      "metadata": {
        "id": "uPpXjj8ZAQyZ"
      }
    },
    {
      "cell_type": "code",
      "execution_count": 205,
      "metadata": {
        "id": "wTqpa7id_9VM"
      },
      "outputs": [],
      "source": [
        "import torch\n",
        "import torch.nn as nn\n",
        "import torch.nn.functional as F\n",
        "import torch.optim as optim\n",
        "from torch.optim.lr_scheduler import StepLR\n",
        "import torchvision.datasets\n",
        "from torchvision import datasets, transforms\n",
        "import matplotlib.pyplot as plt\n",
        "import pandas as pd\n",
        "import numpy as np\n",
        "import seaborn as sns"
      ]
    },
    {
      "cell_type": "code",
      "source": [
        "# Define transforms to apply on MNIST images to process data\n",
        "train_dataset = torchvision.datasets.MNIST(root=\"./data/\",\n",
        "                                           train=True,\n",
        "                                           transform=transforms.ToTensor(),\n",
        "                                           download=True)\n",
        "\n",
        "Test_dataset = torchvision.datasets.MNIST(root=\"./data/\",\n",
        "                                           train=False,\n",
        "                                           transform=transforms.ToTensor())\n"
      ],
      "metadata": {
        "id": "0jCSNNQEAj6T"
      },
      "execution_count": 29,
      "outputs": []
    },
    {
      "cell_type": "code",
      "source": [
        "val_dataset, test_dataset = torch.utils.data.random_split(Test_dataset, [0.5, 0.5])"
      ],
      "metadata": {
        "id": "NOHlGTiQLmNk"
      },
      "execution_count": 31,
      "outputs": []
    },
    {
      "cell_type": "code",
      "source": [
        "# Create a Dataloader: Required for holding and feeding data in batches to a model\n",
        "train_dataloader = torch.utils.data.DataLoader(dataset=train_dataset,\n",
        "                                               batch_size=64,\n",
        "                                               shuffle=True)\n",
        "\n",
        "val_dataloader = torch.utils.data.DataLoader(dataset=val_dataset,\n",
        "                                               batch_size=64,\n",
        "                                               shuffle=False) # Don't need this to be randomly shuffled\n",
        "\n",
        "test_dataloader = torch.utils.data.DataLoader(dataset=test_dataset,\n",
        "                                              batch_size=64,\n",
        "                                              shuffle=False)"
      ],
      "metadata": {
        "id": "XRXQE44JKK4V"
      },
      "execution_count": 32,
      "outputs": []
    },
    {
      "cell_type": "code",
      "source": [
        "# How many batches in each dataloader\n",
        "print(f\"Training Batches: {len(train_dataloader)}\")\n",
        "print(f\"Validation Batches: {len(val_dataloader)}\")\n",
        "print(f\"Testing Batches: {len(test_dataloader)}\")\n"
      ],
      "metadata": {
        "id": "ecaBYDQCZSUm",
        "outputId": "2fd0915e-b4fc-4bca-f87d-078099ed23a0",
        "colab": {
          "base_uri": "https://localhost:8080/"
        }
      },
      "execution_count": 155,
      "outputs": [
        {
          "output_type": "stream",
          "name": "stdout",
          "text": [
            "Training Batches: 938\n",
            "Validation Batches: 79\n",
            "Testing Batches: 79\n"
          ]
        }
      ]
    },
    {
      "cell_type": "code",
      "source": [
        "# View some data examples - batches are iterators\n",
        "examples = iter(val_dataloader)\n",
        "example_data, example_targets = next(examples)\n",
        "\n",
        "for i in range(6):\n",
        "    plt.subplot(2,3,i+1)\n",
        "    plt.imshow(example_data[i][0], cmap='gray')\n",
        "plt.show()"
      ],
      "metadata": {
        "colab": {
          "base_uri": "https://localhost:8080/",
          "height": 411
        },
        "id": "9ah-otN0BNhm",
        "outputId": "98f423da-6be0-4bfa-8987-218fcc00c65a"
      },
      "execution_count": 156,
      "outputs": [
        {
          "output_type": "display_data",
          "data": {
            "text/plain": [
              "<Figure size 640x480 with 6 Axes>"
            ],
            "image/png": "[encoded data removed]"
          },
          "metadata": {}
        }
      ]
    },
    {
      "cell_type": "code",
      "source": [
        "print(example_data.shape) # 64 images of 28 x 28 pixels and 1 channel\n",
        "print(example_targets.shape)"
      ],
      "metadata": {
        "colab": {
          "base_uri": "https://localhost:8080/"
        },
        "id": "YoCpAZhuCt-0",
        "outputId": "9113d0ae-dd89-4374-ca30-c04415f75e91"
      },
      "execution_count": 157,
      "outputs": [
        {
          "output_type": "stream",
          "name": "stdout",
          "text": [
            "torch.Size([64, 1, 28, 28])\n",
            "torch.Size([64])\n"
          ]
        }
      ]
    },
    {
      "cell_type": "code",
      "source": [
        "# Write the AutoEncoder Class - reduce the size of the input\n",
        "class Autoencoder(nn.Module):\n",
        "  def __init__(self, dropout_rate=0.5):\n",
        "    super(Autoencoder, self).__init__()\n",
        "    self.encoder = nn.Sequential(\n",
        "        nn.Linear(28*28, 128), # 784 -> 128\n",
        "        nn.ReLU(),\n",
        "        nn.Dropout(dropout_rate),\n",
        "        nn.Linear(128, 64),\n",
        "        nn.ReLU(),\n",
        "        nn.Dropout(dropout_rate),\n",
        "        nn.Linear(64, 12),\n",
        "        nn.ReLU(),\n",
        "        nn.Dropout(dropout_rate),\n",
        "        nn.Linear(12, 3)\n",
        "        )\n",
        "\n",
        "    self.decoder=nn.Sequential(\n",
        "            nn.Linear(3, 12),\n",
        "            nn.ReLU(),\n",
        "            nn.Dropout(dropout_rate),\n",
        "            nn.Linear(12, 64),\n",
        "            nn.ReLU(),\n",
        "            nn.Dropout(dropout_rate),\n",
        "            nn.Linear(64, 128),\n",
        "            nn.ReLU(),\n",
        "            nn.Dropout(dropout_rate),\n",
        "            nn.Linear(128, 28 * 28),\n",
        "            nn.Sigmoid()\n",
        "            )\n",
        "\n",
        "  def forward(self, x):\n",
        "    encoded_features=self.encoder(x)\n",
        "    reconstructed_input=self.decoder(encoded_features)\n",
        "    return reconstructed_input\n",
        "\n",
        "  def extract_latent_features(self, x):\n",
        "    latent_features=self.encoder(x)\n",
        "    return latent_features"
      ],
      "metadata": {
        "id": "Z934qeHcBRGJ"
      },
      "execution_count": 206,
      "outputs": []
    },
    {
      "cell_type": "code",
      "source": [
        "model=Autoencoder()\n",
        "\n",
        "#loss=nn.MSELoss()\n",
        "\n",
        "def loss_fn(output, target, mse_ignore_val=0):\n",
        "\n",
        "  z=output+target\n",
        "  zero_mask=torch.where(z==mse_ignore_val, False, True)\n",
        "  mse=(output-target)**2\n",
        "\n",
        "  return torch.mean(torch.masked_select(mse, zero_mask))\n",
        "\n",
        "\n",
        "optimiser=torch.optim.AdamW(\n",
        "    model.parameters(),\n",
        "    lr=1e-3,\n",
        "    weight_decay=1e-5,\n",
        ")\n",
        "\n",
        "# Learning rate scheduler\n",
        "scheduler = StepLR(optimiser,\n",
        "                   step_size=5,\n",
        "                   gamma=0.1)\n"
      ],
      "metadata": {
        "id": "fUcsq1pvCQQ6"
      },
      "execution_count": 207,
      "outputs": []
    },
    {
      "cell_type": "code",
      "source": [
        "num_epochs=15\n",
        "\n",
        "# Training Loop\n",
        "epoch_outputs=[]\n",
        "\n",
        "for epoch in range(num_epochs):\n",
        "  train_outputs=[]\n",
        "  val_outputs=[]\n",
        "\n",
        "  # Perform training loop\n",
        "  model.train()\n",
        "  for idx, (img, label) in enumerate(train_dataloader):\n",
        "    flattened_img=img.reshape(-1, 28*28)\n",
        "\n",
        "    latent_features=model.extract_latent_features(flattened_img)\n",
        "    reconstructed_input=model.forward(flattened_img)\n",
        "    mse_loss=loss_fn(reconstructed_input, flattened_img)\n",
        "\n",
        "    optimiser.zero_grad()\n",
        "    mse_loss.backward()\n",
        "    optimiser.step()\n",
        "\n",
        "    train_outputs.append(mse_loss.item())\n",
        "\n",
        "  # Learning rate scheduling (once per epoch)\n",
        "  scheduler.step()\n",
        "\n",
        "  # Compute Validation metrics\n",
        "  model.eval()\n",
        "  with torch.no_grad():\n",
        "    for _, (val_img, val_label) in enumerate(val_dataloader):\n",
        "\n",
        "      val_flattened_img=val_img.reshape(-1, 28*28)\n",
        "\n",
        "      val_reconstruction_input=model.forward(val_flattened_img)\n",
        "      val_mse_loss=loss_fn(val_reconstruction_input, val_flattened_img)\n",
        "\n",
        "      val_outputs.append(val_mse_loss.item())\n",
        "\n",
        "  # Grab Epoch Statistics\n",
        "  epoch_outputs.append({\"epoch\": epoch, \"train_loss\": np.mean(train_outputs), \"validation_loss\": np.mean(val_outputs)})\n",
        "  print(epoch_outputs[epoch])\n",
        "\n",
        "  # print(f'Epoch:{epoch+1}, Batch_ID: {idx}, Train Loss:{mse_loss.item():.4f}, Val Loss: {val_mse_loss.item():.4f}')\n",
        "  # train_outputs.append({\"epoch\": epoch, \"batch_id\": idx, \"Train_MSE\": mse_loss.item(), \"Validation_MSE\": val_mse_loss.item()})"
      ],
      "metadata": {
        "colab": {
          "base_uri": "https://localhost:8080/"
        },
        "id": "mup1BayUEyD5",
        "outputId": "0a220070-f7f2-44ff-de08-4aafa2d9a5e5"
      },
      "execution_count": 208,
      "outputs": [
        {
          "output_type": "stream",
          "name": "stdout",
          "text": [
            "{'epoch': 0, 'train_loss': 0.06898739688527356, 'validation_loss': 0.05902801435205001}\n",
            "{'epoch': 1, 'train_loss': 0.05417783299822416, 'validation_loss': 0.048594297487524495}\n",
            "{'epoch': 2, 'train_loss': 0.04355825127950355, 'validation_loss': 0.03879197573737253}\n",
            "{'epoch': 3, 'train_loss': 0.03707032877880373, 'validation_loss': 0.03590029463926448}\n",
            "{'epoch': 4, 'train_loss': 0.03514332730156272, 'validation_loss': 0.034646246794469746}\n",
            "{'epoch': 5, 'train_loss': 0.033888410401544465, 'validation_loss': 0.034005387697981886}\n",
            "{'epoch': 6, 'train_loss': 0.03369431380929151, 'validation_loss': 0.03392079479615145}\n",
            "{'epoch': 7, 'train_loss': 0.033579798369630695, 'validation_loss': 0.03383563850310784}\n",
            "{'epoch': 8, 'train_loss': 0.03346731710527688, 'validation_loss': 0.033726444939457915}\n",
            "{'epoch': 9, 'train_loss': 0.03337771006857853, 'validation_loss': 0.033669165583162367}\n",
            "{'epoch': 10, 'train_loss': 0.033243521061072596, 'validation_loss': 0.03361082579233224}\n",
            "{'epoch': 11, 'train_loss': 0.03322357240754531, 'validation_loss': 0.03360042765830891}\n",
            "{'epoch': 12, 'train_loss': 0.03321340884060176, 'validation_loss': 0.033589394786689854}\n",
            "{'epoch': 13, 'train_loss': 0.03320345808583091, 'validation_loss': 0.0335807402771485}\n",
            "{'epoch': 14, 'train_loss': 0.033194061831386484, 'validation_loss': 0.033570196055158784}\n"
          ]
        }
      ]
    },
    {
      "cell_type": "code",
      "source": [
        "train_batch_df=pd.DataFrame(epoch_outputs)\n",
        "\n",
        "train_batch_df"
      ],
      "metadata": {
        "id": "GDM7YShzXNbq",
        "outputId": "fcee75ce-4e9c-45ae-8b45-91ea93e85b28",
        "colab": {
          "base_uri": "https://localhost:8080/",
          "height": 519
        }
      },
      "execution_count": 195,
      "outputs": [
        {
          "output_type": "execute_result",
          "data": {
            "text/plain": [
              "    epoch  train_loss  validation_loss\n",
              "0       0    0.058501         0.045021\n",
              "1       1    0.042253         0.040168\n",
              "2       2    0.039202         0.037909\n",
              "3       3    0.037509         0.036508\n",
              "4       4    0.036294         0.035644\n",
              "5       5    0.035327         0.034878\n",
              "6       6    0.034615         0.034483\n",
              "7       7    0.034120         0.033829\n",
              "8       8    0.033635         0.033519\n",
              "9       9    0.033277         0.033246\n",
              "10     10    0.032971         0.032869\n",
              "11     11    0.032683         0.032713\n",
              "12     12    0.032419         0.032543\n",
              "13     13    0.032180         0.032245\n",
              "14     14    0.031981         0.032063"
            ],
            "text/html": [
              "\n",
              "  <div id=\"df-c0edda48-19d4-4b3c-bf93-8da27a7b4872\" class=\"colab-df-container\">\n",
              "    <div>\n",
              "<style scoped>\n",
              "    .dataframe tbody tr th:only-of-type {\n",
              "        vertical-align: middle;\n",
              "    }\n",
              "\n",
              "    .dataframe tbody tr th {\n",
              "        vertical-align: top;\n",
              "    }\n",
              "\n",
              "    .dataframe thead th {\n",
              "        text-align: right;\n",
              "    }\n",
              "</style>\n",
              "<table border=\"1\" class=\"dataframe\">\n",
              "  <thead>\n",
              "    <tr style=\"text-align: right;\">\n",
              "      <th></th>\n",
              "      <th>epoch</th>\n",
              "      <th>train_loss</th>\n",
              "      <th>validation_loss</th>\n",
              "    </tr>\n",
              "  </thead>\n",
              "  <tbody>\n",
              "    <tr>\n",
              "      <th>0</th>\n",
              "      <td>0</td>\n",
              "      <td>0.058501</td>\n",
              "      <td>0.045021</td>\n",
              "    </tr>\n",
              "    <tr>\n",
              "      <th>1</th>\n",
              "      <td>1</td>\n",
              "      <td>0.042253</td>\n",
              "      <td>0.040168</td>\n",
              "    </tr>\n",
              "    <tr>\n",
              "      <th>2</th>\n",
              "      <td>2</td>\n",
              "      <td>0.039202</td>\n",
              "      <td>0.037909</td>\n",
              "    </tr>\n",
              "    <tr>\n",
              "      <th>3</th>\n",
              "      <td>3</td>\n",
              "      <td>0.037509</td>\n",
              "      <td>0.036508</td>\n",
              "    </tr>\n",
              "    <tr>\n",
              "      <th>4</th>\n",
              "      <td>4</td>\n",
              "      <td>0.036294</td>\n",
              "      <td>0.035644</td>\n",
              "    </tr>\n",
              "    <tr>\n",
              "      <th>5</th>\n",
              "      <td>5</td>\n",
              "      <td>0.035327</td>\n",
              "      <td>0.034878</td>\n",
              "    </tr>\n",
              "    <tr>\n",
              "      <th>6</th>\n",
              "      <td>6</td>\n",
              "      <td>0.034615</td>\n",
              "      <td>0.034483</td>\n",
              "    </tr>\n",
              "    <tr>\n",
              "      <th>7</th>\n",
              "      <td>7</td>\n",
              "      <td>0.034120</td>\n",
              "      <td>0.033829</td>\n",
              "    </tr>\n",
              "    <tr>\n",
              "      <th>8</th>\n",
              "      <td>8</td>\n",
              "      <td>0.033635</td>\n",
              "      <td>0.033519</td>\n",
              "    </tr>\n",
              "    <tr>\n",
              "      <th>9</th>\n",
              "      <td>9</td>\n",
              "      <td>0.033277</td>\n",
              "      <td>0.033246</td>\n",
              "    </tr>\n",
              "    <tr>\n",
              "      <th>10</th>\n",
              "      <td>10</td>\n",
              "      <td>0.032971</td>\n",
              "      <td>0.032869</td>\n",
              "    </tr>\n",
              "    <tr>\n",
              "      <th>11</th>\n",
              "      <td>11</td>\n",
              "      <td>0.032683</td>\n",
              "      <td>0.032713</td>\n",
              "    </tr>\n",
              "    <tr>\n",
              "      <th>12</th>\n",
              "      <td>12</td>\n",
              "      <td>0.032419</td>\n",
              "      <td>0.032543</td>\n",
              "    </tr>\n",
              "    <tr>\n",
              "      <th>13</th>\n",
              "      <td>13</td>\n",
              "      <td>0.032180</td>\n",
              "      <td>0.032245</td>\n",
              "    </tr>\n",
              "    <tr>\n",
              "      <th>14</th>\n",
              "      <td>14</td>\n",
              "      <td>0.031981</td>\n",
              "      <td>0.032063</td>\n",
              "    </tr>\n",
              "  </tbody>\n",
              "</table>\n",
              "</div>\n",
              "    <div class=\"colab-df-buttons\">\n",
              "\n",
              "  <div class=\"colab-df-container\">\n",
              "    <button class=\"colab-df-convert\" onclick=\"convertToInteractive('df-c0edda48-19d4-4b3c-bf93-8da27a7b4872')\"\n",
              "            title=\"Convert this dataframe to an interactive table.\"\n",
              "            style=\"display:none;\">\n",
              "\n",
              "  <svg xmlns=\"http://www.w3.org/2000/svg\" height=\"24px\" viewBox=\"0 -960 960 960\">\n",
              "    <path d=\"M120-120v-720h720v720H120Zm60-500h600v-160H180v160Zm220 220h160v-160H400v160Zm0 220h160v-160H400v160ZM180-400h160v-160H180v160Zm440 0h160v-160H620v160ZM180-180h160v-160H180v160Zm440 0h160v-160H620v160Z\"/>\n",
              "  </svg>\n",
              "    </button>\n",
              "\n",
              "  <style>\n",
              "    .colab-df-container {\n",
              "      display:flex;\n",
              "      gap: 12px;\n",
              "    }\n",
              "\n",
              "    .colab-df-convert {\n",
              "      background-color: #E8F0FE;\n",
              "      border: none;\n",
              "      border-radius: 50%;\n",
              "      cursor: pointer;\n",
              "      display: none;\n",
              "      fill: #1967D2;\n",
              "      height: 32px;\n",
              "      padding: 0 0 0 0;\n",
              "      width: 32px;\n",
              "    }\n",
              "\n",
              "    .colab-df-convert:hover {\n",
              "      background-color: #E2EBFA;\n",
              "      box-shadow: 0px 1px 2px rgba(60, 64, 67, 0.3), 0px 1px 3px 1px rgba(60, 64, 67, 0.15);\n",
              "      fill: #174EA6;\n",
              "    }\n",
              "\n",
              "    .colab-df-buttons div {\n",
              "      margin-bottom: 4px;\n",
              "    }\n",
              "\n",
              "    [theme=dark] .colab-df-convert {\n",
              "      background-color: #3B4455;\n",
              "      fill: #D2E3FC;\n",
              "    }\n",
              "\n",
              "    [theme=dark] .colab-df-convert:hover {\n",
              "      background-color: #434B5C;\n",
              "      box-shadow: 0px 1px 3px 1px rgba(0, 0, 0, 0.15);\n",
              "      filter: drop-shadow(0px 1px 2px rgba(0, 0, 0, 0.3));\n",
              "      fill: #FFFFFF;\n",
              "    }\n",
              "  </style>\n",
              "\n",
              "    <script>\n",
              "      const buttonEl =\n",
              "        document.querySelector('#df-c0edda48-19d4-4b3c-bf93-8da27a7b4872 button.colab-df-convert');\n",
              "      buttonEl.style.display =\n",
              "        google.colab.kernel.accessAllowed ? 'block' : 'none';\n",
              "\n",
              "      async function convertToInteractive(key) {\n",
              "        const element = document.querySelector('#df-c0edda48-19d4-4b3c-bf93-8da27a7b4872');\n",
              "        const dataTable =\n",
              "          await google.colab.kernel.invokeFunction('convertToInteractive',\n",
              "                                                    [key], {});\n",
              "        if (!dataTable) return;\n",
              "\n",
              "        const docLinkHtml = 'Like what you see? Visit the ' +\n",
              "          '<a target=\"_blank\" href=https://colab.research.google.com/notebooks/data_table.ipynb>data table notebook</a>'\n",
              "          + ' to learn more about interactive tables.';\n",
              "        element.innerHTML = '';\n",
              "        dataTable['output_type'] = 'display_data';\n",
              "        await google.colab.output.renderOutput(dataTable, element);\n",
              "        const docLink = document.createElement('div');\n",
              "        docLink.innerHTML = docLinkHtml;\n",
              "        element.appendChild(docLink);\n",
              "      }\n",
              "    </script>\n",
              "  </div>\n",
              "\n",
              "\n",
              "<div id=\"df-8e265974-ab7b-4bd5-b66e-4c54d03b0166\">\n",
              "  <button class=\"colab-df-quickchart\" onclick=\"quickchart('df-8e265974-ab7b-4bd5-b66e-4c54d03b0166')\"\n",
              "            title=\"Suggest charts\"\n",
              "            style=\"display:none;\">\n",
              "\n",
              "<svg xmlns=\"http://www.w3.org/2000/svg\" height=\"24px\"viewBox=\"0 0 24 24\"\n",
              "     width=\"24px\">\n",
              "    <g>\n",
              "        <path d=\"M19 3H5c-1.1 0-2 .9-2 2v14c0 1.1.9 2 2 2h14c1.1 0 2-.9 2-2V5c0-1.1-.9-2-2-2zM9 17H7v-7h2v7zm4 0h-2V7h2v10zm4 0h-2v-4h2v4z\"/>\n",
              "    </g>\n",
              "</svg>\n",
              "  </button>\n",
              "\n",
              "<style>\n",
              "  .colab-df-quickchart {\n",
              "      --bg-color: #E8F0FE;\n",
              "      --fill-color: #1967D2;\n",
              "      --hover-bg-color: #E2EBFA;\n",
              "      --hover-fill-color: #174EA6;\n",
              "      --disabled-fill-color: #AAA;\n",
              "      --disabled-bg-color: #DDD;\n",
              "  }\n",
              "\n",
              "  [theme=dark] .colab-df-quickchart {\n",
              "      --bg-color: #3B4455;\n",
              "      --fill-color: #D2E3FC;\n",
              "      --hover-bg-color: #434B5C;\n",
              "      --hover-fill-color: #FFFFFF;\n",
              "      --disabled-bg-color: #3B4455;\n",
              "      --disabled-fill-color: #666;\n",
              "  }\n",
              "\n",
              "  .colab-df-quickchart {\n",
              "    background-color: var(--bg-color);\n",
              "    border: none;\n",
              "    border-radius: 50%;\n",
              "    cursor: pointer;\n",
              "    display: none;\n",
              "    fill: var(--fill-color);\n",
              "    height: 32px;\n",
              "    padding: 0;\n",
              "    width: 32px;\n",
              "  }\n",
              "\n",
              "  .colab-df-quickchart:hover {\n",
              "    background-color: var(--hover-bg-color);\n",
              "    box-shadow: 0 1px 2px rgba(60, 64, 67, 0.3), 0 1px 3px 1px rgba(60, 64, 67, 0.15);\n",
              "    fill: var(--button-hover-fill-color);\n",
              "  }\n",
              "\n",
              "  .colab-df-quickchart-complete:disabled,\n",
              "  .colab-df-quickchart-complete:disabled:hover {\n",
              "    background-color: var(--disabled-bg-color);\n",
              "    fill: var(--disabled-fill-color);\n",
              "    box-shadow: none;\n",
              "  }\n",
              "\n",
              "  .colab-df-spinner {\n",
              "    border: 2px solid var(--fill-color);\n",
              "    border-color: transparent;\n",
              "    border-bottom-color: var(--fill-color);\n",
              "    animation:\n",
              "      spin 1s steps(1) infinite;\n",
              "  }\n",
              "\n",
              "  @keyframes spin {\n",
              "    0% {\n",
              "      border-color: transparent;\n",
              "      border-bottom-color: var(--fill-color);\n",
              "      border-left-color: var(--fill-color);\n",
              "    }\n",
              "    20% {\n",
              "      border-color: transparent;\n",
              "      border-left-color: var(--fill-color);\n",
              "      border-top-color: var(--fill-color);\n",
              "    }\n",
              "    30% {\n",
              "      border-color: transparent;\n",
              "      border-left-color: var(--fill-color);\n",
              "      border-top-color: var(--fill-color);\n",
              "      border-right-color: var(--fill-color);\n",
              "    }\n",
              "    40% {\n",
              "      border-color: transparent;\n",
              "      border-right-color: var(--fill-color);\n",
              "      border-top-color: var(--fill-color);\n",
              "    }\n",
              "    60% {\n",
              "      border-color: transparent;\n",
              "      border-right-color: var(--fill-color);\n",
              "    }\n",
              "    80% {\n",
              "      border-color: transparent;\n",
              "      border-right-color: var(--fill-color);\n",
              "      border-bottom-color: var(--fill-color);\n",
              "    }\n",
              "    90% {\n",
              "      border-color: transparent;\n",
              "      border-bottom-color: var(--fill-color);\n",
              "    }\n",
              "  }\n",
              "</style>\n",
              "\n",
              "  <script>\n",
              "    async function quickchart(key) {\n",
              "      const quickchartButtonEl =\n",
              "        document.querySelector('#' + key + ' button');\n",
              "      quickchartButtonEl.disabled = true;  // To prevent multiple clicks.\n",
              "      quickchartButtonEl.classList.add('colab-df-spinner');\n",
              "      try {\n",
              "        const charts = await google.colab.kernel.invokeFunction(\n",
              "            'suggestCharts', [key], {});\n",
              "      } catch (error) {\n",
              "        console.error('Error during call to suggestCharts:', error);\n",
              "      }\n",
              "      quickchartButtonEl.classList.remove('colab-df-spinner');\n",
              "      quickchartButtonEl.classList.add('colab-df-quickchart-complete');\n",
              "    }\n",
              "    (() => {\n",
              "      let quickchartButtonEl =\n",
              "        document.querySelector('#df-8e265974-ab7b-4bd5-b66e-4c54d03b0166 button');\n",
              "      quickchartButtonEl.style.display =\n",
              "        google.colab.kernel.accessAllowed ? 'block' : 'none';\n",
              "    })();\n",
              "  </script>\n",
              "</div>\n",
              "    </div>\n",
              "  </div>\n"
            ]
          },
          "metadata": {},
          "execution_count": 195
        }
      ]
    },
    {
      "cell_type": "code",
      "source": [
        "sns.lineplot(data=train_batch_df[[\"train_loss\", \"validation_loss\"]])\n"
      ],
      "metadata": {
        "id": "ao6_v7DwvleI",
        "outputId": "c49d76a8-317d-49db-f272-84916b267492",
        "colab": {
          "base_uri": "https://localhost:8080/",
          "height": 447
        }
      },
      "execution_count": 196,
      "outputs": [
        {
          "output_type": "execute_result",
          "data": {
            "text/plain": [
              "<Axes: >"
            ]
          },
          "metadata": {},
          "execution_count": 196
        },
        {
          "output_type": "display_data",
          "data": {
            "text/plain": [
              "<Figure size 640x480 with 1 Axes>"
            ],
            "image/png": "[encoded data removed]"
          },
          "metadata": {}
        }
      ]
    },
    {
      "cell_type": "code",
      "source": [
        "# Save the trained model\n",
        "torch.save(model.state_dict(), 'autoencoder_trained.pth')"
      ],
      "metadata": {
        "id": "JUP47p76Je-G"
      },
      "execution_count": 162,
      "outputs": []
    },
    {
      "cell_type": "code",
      "source": [
        "# Inference using the trained model\n",
        "## Extract some images\n",
        "test_batch = iter(test_dataloader)\n",
        "test_batch_image, test_batch_label = next(test_batch)\n",
        "\n",
        "test_outputs=[]\n",
        "\n",
        "model.eval()\n",
        "with torch.no_grad():\n",
        "  for idx, (img, label) in enumerate(test_dataloader):\n",
        "\n",
        "    test_flattened_img=img.reshape(-1, 28*28)\n",
        "\n",
        "    test_reconstruction_input=model.forward(test_flattened_img)\n",
        "    test_mse_loss=loss(test_reconstruction_input, test_flattened_img)\n",
        "\n",
        "    test_outputs.append({\"batch_id\": idx, \"MSE\": test_mse_loss.item()})"
      ],
      "metadata": {
        "id": "ZFkoNVMbJg6O"
      },
      "execution_count": 197,
      "outputs": []
    },
    {
      "cell_type": "code",
      "source": [
        "test_batch_df=pd.DataFrame(test_outputs)\n",
        "\n",
        "test_batch_df.MSE.mean()"
      ],
      "metadata": {
        "id": "oWnfdhomJhBG",
        "outputId": "b3bef0e1-5b6c-49b1-9a9d-9a3ca7c4a631",
        "colab": {
          "base_uri": "https://localhost:8080/"
        }
      },
      "execution_count": 198,
      "outputs": [
        {
          "output_type": "execute_result",
          "data": {
            "text/plain": [
              "0.03218816074578068"
            ]
          },
          "metadata": {},
          "execution_count": 198
        }
      ]
    },
    {
      "cell_type": "markdown",
      "source": [
        "# Compare original and reconstructed image"
      ],
      "metadata": {
        "id": "Wu5-AePhl9jY"
      }
    },
    {
      "cell_type": "code",
      "source": [
        "im=next(test_batch)[0][0]"
      ],
      "metadata": {
        "id": "nC89NBxhdesx"
      },
      "execution_count": 199,
      "outputs": []
    },
    {
      "cell_type": "code",
      "source": [
        "# Reconstruct input image\n",
        "model.eval()\n",
        "with torch.no_grad():\n",
        "  oos_reconstructed_input=model.forward(im.reshape(-1, 28*28))\n",
        "\n",
        "oos_reconstructed_input_resized=oos_reconstructed_input.reshape(1, 28, 28)\n"
      ],
      "metadata": {
        "id": "EBpMRc1tJhJj"
      },
      "execution_count": 202,
      "outputs": []
    },
    {
      "cell_type": "code",
      "source": [
        "# Bring together original and reconstructed image\n",
        "imgs=[im, oos_reconstructed_input_resized]\n",
        "\n",
        "for idx, img in enumerate(imgs):\n",
        "    plt.subplot(1,2, idx+1)\n",
        "    plt.imshow(img[0, :, :], cmap='gray')\n",
        "plt.show()"
      ],
      "metadata": {
        "id": "urGq1a5VJhN6",
        "outputId": "70966d8b-4d80-47f5-8f66-8e29d478acb4",
        "colab": {
          "base_uri": "https://localhost:8080/",
          "height": 287
        }
      },
      "execution_count": 203,
      "outputs": [
        {
          "output_type": "display_data",
          "data": {
            "text/plain": [
              "<Figure size 640x480 with 2 Axes>"
            ],
            "image/png": "[encoded data removed]"
          },
          "metadata": {}
        }
      ]
    },
    {
      "cell_type": "code",
      "source": [],
      "metadata": {
        "id": "8PuUJPdUyl32"
      },
      "execution_count": null,
      "outputs": []
    },
    {
      "cell_type": "code",
      "source": [],
      "metadata": {
        "id": "tKzKx9kmynDt"
      },
      "execution_count": null,
      "outputs": []
    },
    {
      "cell_type": "code",
      "source": [],
      "metadata": {
        "id": "QWOLRg58yqa3"
      },
      "execution_count": 203,
      "outputs": []
    },
    {
      "cell_type": "code",
      "source": [],
      "metadata": {
        "id": "y1baCGFh1JN9"
      },
      "execution_count": 203,
      "outputs": []
    },
    {
      "cell_type": "code",
      "source": [],
      "metadata": {
        "id": "Tm2OFXwEQX1_"
      },
      "execution_count": 203,
      "outputs": []
    },
    {
      "cell_type": "code",
      "source": [],
      "metadata": {
        "id": "tjJZmh6uwp5n"
      },
      "execution_count": null,
      "outputs": []
    }
  ]
}