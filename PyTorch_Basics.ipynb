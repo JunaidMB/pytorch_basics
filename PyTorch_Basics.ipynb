{
  "nbformat": 4,
  "nbformat_minor": 0,
  "metadata": {
    "colab": {
      "provenance": [],
      "gpuType": "T4"
    },
    "kernelspec": {
      "name": "python3",
      "display_name": "Python 3"
    },
    "language_info": {
      "name": "python"
    },
    "accelerator": "GPU"
  },
  "cells": [
    {
      "cell_type": "markdown",
      "source": [
        "# PyTorch Basics\n",
        "\n",
        "[Inspiration](https://colab.research.google.com/drive/1eiUBpmQ4m7Lbxqi2xth1jBaL61XTKdxp?usp=sharing#scrollTo=n4ekV872wPF5)"
      ],
      "metadata": {
        "id": "akrpCgLUj8Lr"
      }
    },
    {
      "cell_type": "code",
      "execution_count": 1,
      "metadata": {
        "colab": {
          "base_uri": "https://localhost:8080/"
        },
        "id": "fjodvpZGjk8H",
        "outputId": "6b2a0a6f-d352-4b92-92d3-f59f167150f1"
      },
      "outputs": [
        {
          "output_type": "stream",
          "name": "stdout",
          "text": [
            "Requirement already satisfied: torch in /usr/local/lib/python3.10/dist-packages (2.1.0+cu121)\n",
            "Requirement already satisfied: filelock in /usr/local/lib/python3.10/dist-packages (from torch) (3.13.1)\n",
            "Requirement already satisfied: typing-extensions in /usr/local/lib/python3.10/dist-packages (from torch) (4.5.0)\n",
            "Requirement already satisfied: sympy in /usr/local/lib/python3.10/dist-packages (from torch) (1.12)\n",
            "Requirement already satisfied: networkx in /usr/local/lib/python3.10/dist-packages (from torch) (3.2.1)\n",
            "Requirement already satisfied: jinja2 in /usr/local/lib/python3.10/dist-packages (from torch) (3.1.2)\n",
            "Requirement already satisfied: fsspec in /usr/local/lib/python3.10/dist-packages (from torch) (2023.6.0)\n",
            "Requirement already satisfied: triton==2.1.0 in /usr/local/lib/python3.10/dist-packages (from torch) (2.1.0)\n",
            "Requirement already satisfied: MarkupSafe>=2.0 in /usr/local/lib/python3.10/dist-packages (from jinja2->torch) (2.1.3)\n",
            "Requirement already satisfied: mpmath>=0.19 in /usr/local/lib/python3.10/dist-packages (from sympy->torch) (1.3.0)\n"
          ]
        }
      ],
      "source": [
        "!pip install torch numpy pandas"
      ]
    },
    {
      "cell_type": "code",
      "source": [
        "import torch\n",
        "import numpy as np\n",
        "import pandas as pd"
      ],
      "metadata": {
        "id": "75U-1zAAkGVO"
      },
      "execution_count": 2,
      "outputs": []
    },
    {
      "cell_type": "markdown",
      "source": [
        "# Tensor Basics"
      ],
      "metadata": {
        "id": "xh8IlZijkgP1"
      }
    },
    {
      "cell_type": "code",
      "source": [
        "# Make a scalar: a 1x1 tensor\n",
        "x = torch.empty(1)\n",
        "print(x)\n",
        "\n",
        "# Make a d x 1 vector\n",
        "d=3\n",
        "x_vec = torch.empty(d)\n",
        "print(x_vec)\n",
        "\n",
        "# Make a m x n matrix\n",
        "m=5\n",
        "n=6\n",
        "x_mat = torch.empty(m, n)\n",
        "print(x_mat)\n",
        "\n",
        "# Make a m x n x o (3d) tensor\n",
        "o=3\n",
        "x_tensor = torch.empty(m, n, o)\n",
        "print(x_tensor)\n",
        "\n",
        "# Make a tensor of random values\n",
        "num_rows = 3\n",
        "num_cols = 2\n",
        "random_matrix = torch.rand(num_rows, num_cols)\n",
        "print(random_matrix)"
      ],
      "metadata": {
        "colab": {
          "base_uri": "https://localhost:8080/"
        },
        "id": "X6GfVVM1kKuB",
        "outputId": "a0db8fab-41a2-4a1e-c0a7-d4e3aed28e24"
      },
      "execution_count": 13,
      "outputs": [
        {
          "output_type": "stream",
          "name": "stdout",
          "text": [
            "tensor([2.6209e-33])\n",
            "tensor([-1.8591e+29,  3.0655e-41, -2.2488e+29])\n",
            "tensor([[-1.7024e+29,  3.0655e-41, -1.3867e+28,  3.0655e-41,  1.4569e-09,\n",
            "          4.4958e-41],\n",
            "        [ 0.0000e+00,  0.0000e+00,  0.0000e+00,  0.0000e+00,  0.0000e+00,\n",
            "          0.0000e+00],\n",
            "        [ 0.0000e+00,  0.0000e+00,  0.0000e+00,  0.0000e+00,  0.0000e+00,\n",
            "          0.0000e+00],\n",
            "        [ 1.4013e-45,  0.0000e+00,  0.0000e+00,  0.0000e+00,  0.0000e+00,\n",
            "          0.0000e+00],\n",
            "        [ 0.0000e+00,  0.0000e+00,  0.0000e+00,  0.0000e+00,  4.7644e-44,\n",
            "          0.0000e+00]])\n",
            "tensor([[[-2.0302e+29,  3.0655e-41, -2.1318e+29],\n",
            "         [ 3.0655e-41, -7.7981e+06,  4.4958e-41],\n",
            "         [ 0.0000e+00,  0.0000e+00,  0.0000e+00],\n",
            "         [ 0.0000e+00,  0.0000e+00,  0.0000e+00],\n",
            "         [ 0.0000e+00,  0.0000e+00,  0.0000e+00],\n",
            "         [ 0.0000e+00,  0.0000e+00,  0.0000e+00]],\n",
            "\n",
            "        [[ 0.0000e+00,  0.0000e+00,  0.0000e+00],\n",
            "         [ 0.0000e+00,  0.0000e+00,  0.0000e+00],\n",
            "         [ 0.0000e+00,  0.0000e+00,  0.0000e+00],\n",
            "         [ 0.0000e+00,  0.0000e+00,  0.0000e+00],\n",
            "         [ 1.9222e-06,  0.0000e+00,  0.0000e+00],\n",
            "         [ 0.0000e+00,  0.0000e+00,  0.0000e+00]],\n",
            "\n",
            "        [[ 0.0000e+00,  0.0000e+00,  0.0000e+00],\n",
            "         [ 0.0000e+00,  0.0000e+00,  0.0000e+00],\n",
            "         [ 1.2603e-33,  4.4959e-41, -2.2002e+29],\n",
            "         [ 3.0655e-41,  6.0052e-09,  4.4958e-41],\n",
            "         [ 8.3013e-34,  4.4959e-41,  0.0000e+00],\n",
            "         [ 0.0000e+00,  1.6854e-34,  4.4959e-41]],\n",
            "\n",
            "        [[ 5.9290e-09,  4.4958e-41,  1.8785e-36],\n",
            "         [ 4.4959e-41,  5.9003e-09,  4.4958e-41],\n",
            "         [ 2.9481e-06,  4.4958e-41,  1.4160e-33],\n",
            "         [ 4.4959e-41,  5.9444e-09,  4.4958e-41],\n",
            "         [ 1.2449e-33,  0.0000e+00,  1.5053e-33],\n",
            "         [ 4.4959e-41,  1.5835e-43,  0.0000e+00]],\n",
            "\n",
            "        [[-1.8135e+28,  3.0655e-41,  2.6209e-33],\n",
            "         [ 4.4959e-41,  1.5054e-33,  4.4959e-41],\n",
            "         [ 1.5800e-33,  4.4959e-41,  8.9144e-34],\n",
            "         [ 4.4959e-41,  1.3990e-33,  4.4959e-41],\n",
            "         [ 1.4203e-33,  4.4959e-41,  4.8420e-34],\n",
            "         [ 4.4959e-41,  5.8331e-06,  4.4958e-41]]])\n",
            "tensor([[0.6614, 0.8995],\n",
            "        [0.2091, 0.8833],\n",
            "        [0.0534, 0.9568]])\n"
          ]
        }
      ]
    },
    {
      "cell_type": "code",
      "source": [
        "# Make a Tensor filled with zeros\n",
        "num_rows = 5\n",
        "num_cols = 5\n",
        "x_zero = torch.zeros(num_rows, num_cols)\n",
        "print(x_zero)\n",
        "\n",
        "# Make a Tensor filled with ones\n",
        "num_rows = 3\n",
        "num_cols = 3\n",
        "num_3rd_dimension = 2\n",
        "x_one = torch.ones(num_rows, num_cols, num_3rd_dimension)\n",
        "print(x_one)\n",
        "\n",
        "# Make a user defined Tensor where we supply the values\n",
        "x_user = torch.tensor([1,2,3,4], dtype=torch.float16)\n",
        "print(x_user)"
      ],
      "metadata": {
        "colab": {
          "base_uri": "https://localhost:8080/"
        },
        "id": "Fo4abTk8knGV",
        "outputId": "e10e5d0a-ac92-4683-869a-8be11a2bf516"
      },
      "execution_count": 67,
      "outputs": [
        {
          "output_type": "stream",
          "name": "stdout",
          "text": [
            "tensor([[0., 0., 0., 0., 0.],\n",
            "        [0., 0., 0., 0., 0.],\n",
            "        [0., 0., 0., 0., 0.],\n",
            "        [0., 0., 0., 0., 0.],\n",
            "        [0., 0., 0., 0., 0.]])\n",
            "tensor([[[1., 1.],\n",
            "         [1., 1.],\n",
            "         [1., 1.]],\n",
            "\n",
            "        [[1., 1.],\n",
            "         [1., 1.],\n",
            "         [1., 1.]],\n",
            "\n",
            "        [[1., 1.],\n",
            "         [1., 1.],\n",
            "         [1., 1.]]])\n",
            "tensor([1., 2., 3., 4.], dtype=torch.float16)\n"
          ]
        }
      ]
    },
    {
      "cell_type": "code",
      "source": [
        "# Check the size and shape of tensors\n",
        "print(x_one.size())\n",
        "print(x_one.shape)\n",
        "\n",
        "# Check the data types\n",
        "print(x_one.dtype)"
      ],
      "metadata": {
        "colab": {
          "base_uri": "https://localhost:8080/"
        },
        "id": "WstFVJj8k1y0",
        "outputId": "553b0d8c-435f-4158-fedc-75e67fe06d75"
      },
      "execution_count": 22,
      "outputs": [
        {
          "output_type": "stream",
          "name": "stdout",
          "text": [
            "torch.Size([3, 3, 2])\n",
            "torch.Size([3, 3, 2])\n",
            "torch.float32\n"
          ]
        }
      ]
    },
    {
      "cell_type": "code",
      "source": [
        "# Tensor Operations\n",
        "torch.manual_seed(123)\n",
        "x1 = torch.rand(2, 1)\n",
        "x2 = torch.rand(2, 1)\n",
        "\n",
        "print(f\"x1={x1}\")\n",
        "print(f\"x2={x2}\")\n",
        "\n",
        "## Addition\n",
        "z_sum = x1 + x2\n",
        "print(z_sum)\n",
        "\n",
        "## Subtraction\n",
        "z_sub = x2 - x1\n",
        "print(z_sub)\n",
        "\n",
        "## Multiplication\n",
        "z_mul = x1*x2\n",
        "print(z_mul)\n",
        "\n",
        "## Division\n",
        "z_div = x2/x1\n",
        "print(z_div)\n",
        "\n",
        "# Slicing: Access an element\n",
        "num_dim1 = 5\n",
        "num_dim2 = 5\n",
        "num_dim3 = 7\n",
        "num_dim4 = 2\n",
        "num_dim5 = 9\n",
        "\n",
        "xl_tensor = torch.empty((num_dim1, num_dim2, num_dim3, num_dim4, num_dim5))\n",
        "xl_tensor[1, 2, 6, 1, 8]\n",
        "xl_tensor[1, 2, 6, :, 8] # all elements across the 4th dimension\n",
        "\n"
      ],
      "metadata": {
        "colab": {
          "base_uri": "https://localhost:8080/"
        },
        "id": "M_OOdfE0nrL_",
        "outputId": "074a00b8-365c-49ac-c7cc-d4605e82c9ad"
      },
      "execution_count": 38,
      "outputs": [
        {
          "output_type": "stream",
          "name": "stdout",
          "text": [
            "x1=tensor([[0.2961],\n",
            "        [0.5166]])\n",
            "x2=tensor([[0.2517],\n",
            "        [0.6886]])\n",
            "tensor([[0.5478],\n",
            "        [1.2051]])\n",
            "tensor([[-0.0444],\n",
            "        [ 0.1720]])\n",
            "tensor([[0.0745],\n",
            "        [0.3557]])\n",
            "tensor([[0.8499],\n",
            "        [1.3330]])\n"
          ]
        },
        {
          "output_type": "execute_result",
          "data": {
            "text/plain": [
              "tensor([2.5223e-44, 3.0655e-41])"
            ]
          },
          "metadata": {},
          "execution_count": 38
        }
      ]
    },
    {
      "cell_type": "code",
      "source": [
        "# Reshaping a Tensor\n",
        "x = torch.rand(4, 5)\n",
        "print(x)\n",
        "## Reshape a 4 x 5 matrix into a 10 x 2 matrix. We can do this because we have 20 elements in both.\n",
        "y = torch.reshape(x, (10, 2))\n",
        "print(y)\n",
        "\n",
        "## Kill a dimension\n",
        "z = torch.reshape(y, (-1,))\n",
        "print(z)"
      ],
      "metadata": {
        "colab": {
          "base_uri": "https://localhost:8080/"
        },
        "id": "e4F0bDWFoObP",
        "outputId": "63a66d4c-6c01-4589-c2c3-4000ddc29a8b"
      },
      "execution_count": 51,
      "outputs": [
        {
          "output_type": "stream",
          "name": "stdout",
          "text": [
            "tensor([[0.9221, 0.9043, 0.5713, 0.9546, 0.8339],\n",
            "        [0.8730, 0.4675, 0.1163, 0.4938, 0.5938],\n",
            "        [0.1594, 0.2132, 0.0206, 0.3247, 0.9355],\n",
            "        [0.5855, 0.4695, 0.5201, 0.8118, 0.0585]])\n",
            "tensor([[0.9221, 0.9043],\n",
            "        [0.5713, 0.9546],\n",
            "        [0.8339, 0.8730],\n",
            "        [0.4675, 0.1163],\n",
            "        [0.4938, 0.5938],\n",
            "        [0.1594, 0.2132],\n",
            "        [0.0206, 0.3247],\n",
            "        [0.9355, 0.5855],\n",
            "        [0.4695, 0.5201],\n",
            "        [0.8118, 0.0585]])\n",
            "tensor([0.9221, 0.9043, 0.5713, 0.9546, 0.8339, 0.8730, 0.4675, 0.1163, 0.4938,\n",
            "        0.5938, 0.1594, 0.2132, 0.0206, 0.3247, 0.9355, 0.5855, 0.4695, 0.5201,\n",
            "        0.8118, 0.0585])\n"
          ]
        }
      ]
    },
    {
      "cell_type": "code",
      "source": [
        "# Converting to and from a numpy array\n",
        "a = np.ones((3, 4))\n",
        "print(a)\n",
        "print(a.dtype)\n",
        "\n",
        "a_tensor = torch.from_numpy(a)\n",
        "print(a_tensor.dtype)\n",
        "\n",
        "a_numpy = a_tensor.numpy()\n",
        "print(a_numpy.dtype)"
      ],
      "metadata": {
        "colab": {
          "base_uri": "https://localhost:8080/"
        },
        "id": "iX70VH_OoR08",
        "outputId": "a2c53e22-db2c-4468-a151-cc43c19b0950"
      },
      "execution_count": 62,
      "outputs": [
        {
          "output_type": "stream",
          "name": "stdout",
          "text": [
            "[[1. 1. 1. 1.]\n",
            " [1. 1. 1. 1.]\n",
            " [1. 1. 1. 1.]]\n",
            "float64\n",
            "torch.float64\n",
            "float64\n"
          ]
        }
      ]
    },
    {
      "cell_type": "code",
      "source": [
        "# Creating tensors on a GPU\n",
        "## Check if a GPU is available, else use a CPU\n",
        "device = torch.device(\"cuda\" if torch.cuda.is_available() else \"cpu\")\n",
        "print(device)\n",
        "\n",
        "## Make on CPU and then move to a GPU (if available)\n",
        "x = torch.rand(5,5).to(device)\n",
        "\n",
        "## Create directly on a GPU\n",
        "y = torch.rand(5,5, device=device)"
      ],
      "metadata": {
        "colab": {
          "base_uri": "https://localhost:8080/"
        },
        "id": "fbfPo3Gjso69",
        "outputId": "ff99ab07-9f16-4b12-e35f-2c93ffe02275"
      },
      "execution_count": 65,
      "outputs": [
        {
          "output_type": "stream",
          "name": "stdout",
          "text": [
            "cpu\n"
          ]
        }
      ]
    },
    {
      "cell_type": "markdown",
      "source": [
        "## Gradient Descent Example with Autograd\n",
        "\n",
        "We want to estimate weights on a tensor\n",
        "$$ f(x) = wx +b $$\n",
        "\n",
        "The true relationship between f(x) and x is\n",
        "$$f(x) = 2x$$"
      ],
      "metadata": {
        "id": "3zxheYa6t-UA"
      }
    },
    {
      "cell_type": "code",
      "source": [
        "# Create some data vectors\n",
        "X = torch.tensor([1, 2, 3, 4, 5, 6, 7, 8], dtype=torch.float16)\n",
        "Y = X*2\n",
        "\n",
        "## Initialise a weight vector and track it's gradients\n",
        "w = torch.tensor(0.0, dtype=torch.float16, requires_grad=True)\n",
        "\n",
        "## Model output: The equation that will be used to generate a model prediction\n",
        "def forward(x: torch.tensor) -> torch.tensor:\n",
        "  return w*x\n",
        "\n",
        "## Define a loss function: The metric that computes the difference between the prediction and actual label. This is to be applied to all predictions at once, hence the mean\n",
        "def mse_loss(y, y_pred):\n",
        "  return ((y_pred - y)**2).mean()\n",
        "\n",
        "x_test = 5.0\n",
        "\n",
        "print(forward(x_test).item())\n",
        "\n"
      ],
      "metadata": {
        "colab": {
          "base_uri": "https://localhost:8080/"
        },
        "id": "r4VjyTbLtgRC",
        "outputId": "caf7d154-f87c-4103-8171-0c30651254cc"
      },
      "execution_count": 78,
      "outputs": [
        {
          "output_type": "stream",
          "name": "stdout",
          "text": [
            "0.0\n"
          ]
        }
      ]
    },
    {
      "cell_type": "markdown",
      "source": [
        "# General Training Loop\n",
        "\n",
        "1. Perform a forward pass to generate a model prediction. $\\hat{y} = f(X)$\n",
        "\n",
        "2. Compute the loss between predictions and actual target variable. $ loss(y, \\hat{y})$.\n",
        "\n",
        "3. Compute Gradients from the loss - backward pass\n",
        "\n",
        "4. Update Model Weights\n",
        "\n",
        "5. Set weight gradients to zero after update"
      ],
      "metadata": {
        "id": "xn8AGKI4yh9o"
      }
    },
    {
      "cell_type": "code",
      "source": [
        "## Training\n",
        "learning_rate = 0.01\n",
        "n_epochs=50\n",
        "\n",
        "for epoch in range(n_epochs):\n",
        "  # Perform a forward pass to obtain predictions\n",
        "  y_pred = forward(X)\n",
        "\n",
        "  # Compute loss between predictions and actual target variable\n",
        "  loss = mse_loss(Y, y_pred)\n",
        "\n",
        "  # Compute gradients (backwards pass) which will be used to update weights\n",
        "  loss.backward()\n",
        "\n",
        "  # Update weights: w_new = w_old - (learning_rate*w_grad)\n",
        "  ## We don't want the gradients tracked in this update. Gradients should be tracked when loss is computed. Then drop everything and start again.\n",
        "  with torch.no_grad():\n",
        "    w -= (learning_rate*w.grad)\n",
        "\n",
        "  # Turn the weight gradients to zero after updating\n",
        "  w.grad.zero_()\n",
        "\n",
        "  # Print progress\n",
        "  if (epoch+1) % 10 == 0:\n",
        "        print(f'epoch {epoch+1}: w = {w.item():.3f}, loss = {loss.item():.3f}')\n",
        "\n",
        "print(f'Prediction after training: f({x_test}) = {forward(x_test).item():.3f}')\n"
      ],
      "metadata": {
        "colab": {
          "base_uri": "https://localhost:8080/"
        },
        "id": "4JlFDwuRt12q",
        "outputId": "b9636f7f-c649-4a03-eecf-2229376e11a8"
      },
      "execution_count": 79,
      "outputs": [
        {
          "output_type": "stream",
          "name": "stdout",
          "text": [
            "epoch 10: w = 1.998, loss = 0.000\n",
            "epoch 20: w = 2.000, loss = 0.000\n",
            "epoch 30: w = 2.000, loss = 0.000\n",
            "epoch 40: w = 2.000, loss = 0.000\n",
            "epoch 50: w = 2.000, loss = 0.000\n",
            "Prediction after training: f(5.0) = 10.000\n"
          ]
        }
      ]
    },
    {
      "cell_type": "markdown",
      "source": [
        "# A PyTorch pipelines with a Model, Loss and an Optimiser\n",
        "\n",
        "1. Design model (input, output, forward pass with different layers) - we use a class to do this\n",
        "2. Construct loss and optimizer: The Optimiser determines how the loss is used to update weights. We have more methods than vanilla gradient descent\n",
        "3. Training loop:\n",
        "Forward = compute prediction and loss\n",
        "Backward = compute gradients\n",
        "Update weights and then clear gradients"
      ],
      "metadata": {
        "id": "aTHJxwHPzflf"
      }
    },
    {
      "cell_type": "code",
      "source": [
        "import torch.nn as nn\n",
        "\n",
        "# We want to fit a linear regression model with a single predictor.\n",
        "\n",
        "## Create Training examples\n",
        "### 8 instances of a scalar. Instances are (X=1, Y=2), (X=2, Y=4),..., (X=8, Y=16)\n",
        "X = torch.tensor([[1], [2], [3], [4], [5], [6], [7], [8]], dtype=torch.float32)\n",
        "Y = torch.tensor([[2], [4], [6], [8], [10], [12], [14], [16]], dtype=torch.float32)\n",
        "\n",
        "# Create a test sample\n",
        "X_test = torch.tensor([15], dtype=torch.float32)\n",
        "\n",
        "# Design a Model class for linear regression\n",
        "class LinearRegression(nn.Module):\n",
        "  def __init__(self, input_dim, output_dim):\n",
        "    # Inherit all methods and attributes from the parent nn.Module class\n",
        "    super(LinearRegression, self).__init__()\n",
        "    # define the model layers: super allows us to use the nn.Linear below\n",
        "    self.lin = nn.Linear(input_dim, output_dim)\n",
        "\n",
        "  # Specify a forward pass to generate a prediction\n",
        "  def forward(self, x):\n",
        "    return self.lin(x)\n",
        "\n",
        "input_size = 1 # Number of features\n",
        "output_size = 1 # Dimensionality of target vector\n",
        "\n",
        "# Initialise a model\n",
        "model = LinearRegression(input_size, output_size)\n",
        "\n",
        "# Generate a prediction on the test point\n",
        "print(f\"Prediction with random weight vector:\\n {model.forward(X_test).item()}\")\n",
        "\n",
        "# Define Loss and optimiser\n",
        "learning_rate=0.01\n",
        "n_epochs=100\n",
        "\n",
        "loss=nn.MSELoss()\n",
        "optimiser=torch.optim.SGD(model.parameters(), lr=learning_rate) # Use stochastic gradient descent on model parameters with the defined learning rate\n",
        "\n",
        "# Training Loop: Do this for each epoch\n",
        "\n",
        "for epoch in range(n_epochs):\n",
        "  # Forward pass\n",
        "  y_pred = model.forward(X)\n",
        "\n",
        "  # Compute Loss\n",
        "  l = loss(Y, y_pred)\n",
        "\n",
        "  # Backwards pass to compute gradients\n",
        "  l.backward()\n",
        "\n",
        "  # Update weights: this is done through an optimiser\n",
        "  optimiser.step()\n",
        "\n",
        "  # Set gradients to 0 after updating\n",
        "  optimiser.zero_grad()\n",
        "\n",
        "  # Track Progress\n",
        "  if (epoch+1) % 10 == 0:\n",
        "        w, b = model.parameters() # unpack parameters\n",
        "        print('epoch ', epoch+1, ': w = ', w[0][0].item(), ' loss = ', l.item())\n",
        "\n",
        "print(f'Prediction after training: f({X_test.item()}) = {model(X_test).item():.3f}')\n",
        "\n"
      ],
      "metadata": {
        "colab": {
          "base_uri": "https://localhost:8080/"
        },
        "id": "sFY9XRD5t16C",
        "outputId": "2f634b6d-50bb-4452-a4d1-5e91bfcbdbe8"
      },
      "execution_count": 92,
      "outputs": [
        {
          "output_type": "stream",
          "name": "stdout",
          "text": [
            "Prediction with random weight vector:\n",
            " -4.516890525817871\n",
            "epoch  10 : w =  1.9988030195236206  loss =  0.0002047350280918181\n",
            "epoch  20 : w =  2.0000998973846436  loss =  6.668659580100211e-08\n",
            "epoch  30 : w =  2.0000967979431152  loss =  6.144581021771955e-08\n",
            "epoch  40 : w =  2.0000929832458496  loss =  5.669912894745721e-08\n",
            "epoch  50 : w =  2.000089406967163  loss =  5.2358579694100627e-08\n",
            "epoch  60 : w =  2.0000858306884766  loss =  4.834784306240181e-08\n",
            "epoch  70 : w =  2.000082492828369  loss =  4.4600916737636e-08\n",
            "epoch  80 : w =  2.0000791549682617  loss =  4.1198312317192176e-08\n",
            "epoch  90 : w =  2.0000760555267334  loss =  3.804854742384123e-08\n",
            "epoch  100 : w =  2.000073194503784  loss =  3.514674062898848e-08\n",
            "Prediction after training: f(15.0) = 30.001\n"
          ]
        }
      ]
    },
    {
      "cell_type": "markdown",
      "source": [
        "# PyTorch full Neural Network Example\n",
        "\n",
        "**Requires a GPU runtime**\n",
        "Build an Image classifier on MNIST data\n"
      ],
      "metadata": {
        "id": "xsWvXNUu873q"
      }
    },
    {
      "cell_type": "code",
      "source": [
        "import torch\n",
        "import torch.nn as nn\n",
        "import torchvision\n",
        "import torchvision.transforms as transforms\n",
        "import matplotlib.pyplot as plt"
      ],
      "metadata": {
        "id": "xr76Ttcut18-"
      },
      "execution_count": 1,
      "outputs": []
    },
    {
      "cell_type": "code",
      "source": [
        "# Device configuration\n",
        "device = torch.device(\"cuda\" if torch.cuda.is_available() else 'cpu')\n",
        "\n",
        "# Define model hyperparameters\n",
        "input_size = 784 # Input Images are 28x28=784\n",
        "hidden_size = 500\n",
        "num_classes = 10\n",
        "num_epochs = 2\n",
        "batch_size = 100\n",
        "learning_rate = 0.001\n",
        "\n",
        "# Obtain Data from MNIST dataset\n",
        "train_dataset = torchvision.datasets.MNIST(root=\"./data/\",\n",
        "                                           train=True,\n",
        "                                           transform=transforms.ToTensor(),\n",
        "                                           download=True)\n",
        "test_dataset = torchvision.datasets.MNIST(root=\"./data/\",\n",
        "                                           train=False,\n",
        "                                           transform=transforms.ToTensor())\n",
        "\n",
        "# Create a Dataloader: Required for holding and feeding data in batches to a model\n",
        "train_dataloader = torch.utils.data.DataLoader(dataset=train_dataset,\n",
        "                                               batch_size=batch_size,\n",
        "                                               shuffle=True)\n",
        "test_dataloader = torch.utils.data.DataLoader(dataset=test_dataset,\n",
        "                                               batch_size=batch_size,\n",
        "                                               shuffle=False) # Don't need this to be randomised\n",
        "# View some data examples - batches are iterators\n",
        "examples = iter(test_dataloader)\n",
        "example_data, example_targets = next(examples)\n",
        "\n",
        "for i in range(6):\n",
        "    plt.subplot(2,3,i+1)\n",
        "    plt.imshow(example_data[i][0], cmap='gray')\n",
        "plt.show()"
      ],
      "metadata": {
        "colab": {
          "base_uri": "https://localhost:8080/",
          "height": 778
        },
        "id": "ulFLeT9zt2Ah",
        "outputId": "e9107112-5ecf-470d-f54e-26bd56fd490b"
      },
      "execution_count": 2,
      "outputs": [
        {
          "output_type": "stream",
          "name": "stdout",
          "text": [
            "Downloading http://yann.lecun.com/exdb/mnist/train-images-idx3-ubyte.gz\n",
            "Downloading http://yann.lecun.com/exdb/mnist/train-images-idx3-ubyte.gz to ./data/MNIST/raw/train-images-idx3-ubyte.gz\n"
          ]
        },
        {
          "output_type": "stream",
          "name": "stderr",
          "text": [
            "100%|██████████| 9912422/9912422 [00:00<00:00, 237782023.50it/s]"
          ]
        },
        {
          "output_type": "stream",
          "name": "stdout",
          "text": [
            "Extracting ./data/MNIST/raw/train-images-idx3-ubyte.gz to ./data/MNIST/raw\n"
          ]
        },
        {
          "output_type": "stream",
          "name": "stderr",
          "text": [
            "\n"
          ]
        },
        {
          "output_type": "stream",
          "name": "stdout",
          "text": [
            "\n",
            "Downloading http://yann.lecun.com/exdb/mnist/train-labels-idx1-ubyte.gz\n",
            "Downloading http://yann.lecun.com/exdb/mnist/train-labels-idx1-ubyte.gz to ./data/MNIST/raw/train-labels-idx1-ubyte.gz\n"
          ]
        },
        {
          "output_type": "stream",
          "name": "stderr",
          "text": [
            "100%|██████████| 28881/28881 [00:00<00:00, 101966072.24it/s]\n"
          ]
        },
        {
          "output_type": "stream",
          "name": "stdout",
          "text": [
            "Extracting ./data/MNIST/raw/train-labels-idx1-ubyte.gz to ./data/MNIST/raw\n",
            "\n",
            "Downloading http://yann.lecun.com/exdb/mnist/t10k-images-idx3-ubyte.gz\n",
            "Downloading http://yann.lecun.com/exdb/mnist/t10k-images-idx3-ubyte.gz to ./data/MNIST/raw/t10k-images-idx3-ubyte.gz\n"
          ]
        },
        {
          "output_type": "stream",
          "name": "stderr",
          "text": [
            "100%|██████████| 1648877/1648877 [00:00<00:00, 87568423.68it/s]"
          ]
        },
        {
          "output_type": "stream",
          "name": "stdout",
          "text": [
            "Extracting ./data/MNIST/raw/t10k-images-idx3-ubyte.gz to ./data/MNIST/raw\n",
            "\n",
            "Downloading http://yann.lecun.com/exdb/mnist/t10k-labels-idx1-ubyte.gz\n"
          ]
        },
        {
          "output_type": "stream",
          "name": "stderr",
          "text": [
            "\n"
          ]
        },
        {
          "output_type": "stream",
          "name": "stdout",
          "text": [
            "Downloading http://yann.lecun.com/exdb/mnist/t10k-labels-idx1-ubyte.gz to ./data/MNIST/raw/t10k-labels-idx1-ubyte.gz\n"
          ]
        },
        {
          "output_type": "stream",
          "name": "stderr",
          "text": [
            "100%|██████████| 4542/4542 [00:00<00:00, 5151576.19it/s]\n"
          ]
        },
        {
          "output_type": "stream",
          "name": "stdout",
          "text": [
            "Extracting ./data/MNIST/raw/t10k-labels-idx1-ubyte.gz to ./data/MNIST/raw\n",
            "\n"
          ]
        },
        {
          "output_type": "display_data",
          "data": {
            "text/plain": [
              "<Figure size 640x480 with 6 Axes>"
            ],
            "image/png": "[encoded data removed]"
          },
          "metadata": {}
        }
      ]
    },
    {
      "cell_type": "code",
      "source": [
        "# Define a Model class for a neural network with one hidden layer\n",
        "class NeuralNet(nn.Module):\n",
        "  def __init__(self, input_size, hidden_size, num_classes):\n",
        "    super(NeuralNet, self).__init__()\n",
        "    self.layer1 = nn.Linear(input_size, hidden_size)\n",
        "    self.relu = nn.ReLU()\n",
        "    self.layer2 = nn.Linear(hidden_size, num_classes)\n",
        "\n",
        "  def forward(self, x):\n",
        "      out = self.layer1(x)\n",
        "      out = self.relu(out)\n",
        "      out = self.layer2(out)\n",
        "      # no activation or softmax at the end\n",
        "      return out"
      ],
      "metadata": {
        "id": "WXMOvfI8C3a3"
      },
      "execution_count": 3,
      "outputs": []
    },
    {
      "cell_type": "code",
      "source": [
        "# Put model onto the GPU\n",
        "model = NeuralNet(input_size=input_size, hidden_size=hidden_size, num_classes=num_classes).to(device)\n",
        "\n",
        "# Define a Loss and Optimiser\n",
        "cross_entropy_loss = nn.CrossEntropyLoss()\n",
        "optimiser = torch.optim.AdamW(model.parameters(), lr=learning_rate)\n",
        "\n",
        "# Training Loop\n",
        "## Iterate for epochs and over all batches in the training dataloader\n",
        "n_total_steps = len(train_dataloader)\n",
        "for epoch in range(num_epochs):\n",
        "  for idx, (images, labels) in enumerate(train_dataloader):\n",
        "    # Image shape: [100, 1, 28, 28] [batch size, number of channels, width, height]\n",
        "    # Flattened shape: [100, 784] Images are flattened into a single long vector\n",
        "    images = images.reshape([100, 1*28*28]).to(device)\n",
        "    labels = labels.to(device)\n",
        "\n",
        "    # Forward Pass\n",
        "    predictions = model.forward(images)\n",
        "\n",
        "    # Compute Loss\n",
        "    l = cross_entropy_loss(predictions, labels)\n",
        "\n",
        "    # Compute Gradients\n",
        "    l.backward()\n",
        "\n",
        "    # Update weights\n",
        "    optimiser.step()\n",
        "\n",
        "    # Set gradients to zero\n",
        "    optimiser.zero_grad()\n",
        "\n",
        "    # Track Progress\n",
        "    if (i+1) % 100 == 0:\n",
        "      print (f'Epoch [{epoch+1}/{num_epochs}], Step [{i+1}/{n_total_steps}], Loss: {l.item():.4f}')\n"
      ],
      "metadata": {
        "id": "BVQMLGRBt2DA"
      },
      "execution_count": 4,
      "outputs": []
    },
    {
      "cell_type": "code",
      "source": [
        "# Perform Inference\n",
        "## Do not track gradients during inference, no backpropagation is required\n",
        "with torch.no_grad():\n",
        "  n_correct=0\n",
        "  n_samples=len(test_dataloader)\n",
        "\n",
        "  test_predictions = []\n",
        "  test_labels = []\n",
        "  for images, labels in test_dataloader:\n",
        "    images = images.reshape([100, 1*28*28]).to(device)\n",
        "    labels = labels.to(device)\n",
        "    test_labels.append(labels)\n",
        "\n",
        "    predictions = model.forward(images)\n",
        "    test_predictions.append(predictions)\n",
        "    # max returns (output_value ,index)\n",
        "    _, predicted = torch.max(predictions, 1)\n",
        "    n_correct += (predicted == labels).sum().item()\n",
        "\n",
        "  acc = n_correct / n_samples\n",
        "  print(f'Accuracy of the network on the {n_samples} test images: {acc} %')\n"
      ],
      "metadata": {
        "colab": {
          "base_uri": "https://localhost:8080/"
        },
        "id": "XTfi1XJhA57l",
        "outputId": "4eafce4d-3086-4c8e-eeb2-f7162754767e"
      },
      "execution_count": 5,
      "outputs": [
        {
          "output_type": "stream",
          "name": "stdout",
          "text": [
            "Accuracy of the network on the 100 test images: 97.04 %\n"
          ]
        }
      ]
    },
    {
      "cell_type": "code",
      "source": [
        "# Manually compute accuracy from predictions and labels\n",
        "test_predictions_tensor = torch.concat([torch.argmax(batch, axis=1) for batch in test_predictions])\n",
        "test_labels_tensor = torch.concat(test_labels)"
      ],
      "metadata": {
        "id": "dgz-yETSf7dt"
      },
      "execution_count": 34,
      "outputs": []
    },
    {
      "cell_type": "code",
      "source": [
        "test_prediction_deviations = test_labels_tensor - test_predictions_tensor\n",
        "test_accuracy = torch.where(test_prediction_deviations == 0, 1, 0)\n",
        "test_accuracy = test_accuracy.to(torch.float64)\n",
        "test_accuracy.mean().item()"
      ],
      "metadata": {
        "colab": {
          "base_uri": "https://localhost:8080/"
        },
        "id": "P3j9-KpPBQ38",
        "outputId": "84f9f7da-1706-40a1-baf1-1d635de2ee8b"
      },
      "execution_count": 48,
      "outputs": [
        {
          "output_type": "execute_result",
          "data": {
            "text/plain": [
              "0.9704"
            ]
          },
          "metadata": {},
          "execution_count": 48
        }
      ]
    },
    {
      "cell_type": "markdown",
      "source": [
        "# Convolutional Neural Network\n",
        "\n",
        "We now add convolutions to format an image and save/ load a model"
      ],
      "metadata": {
        "id": "rArhbZNkjPLQ"
      }
    },
    {
      "cell_type": "code",
      "source": [
        "import torch\n",
        "import torch.nn as nn\n",
        "import torch.nn.functional as F\n",
        "import torchvision\n",
        "import torchvision.transforms as transforms\n",
        "import matplotlib.pyplot as plt\n",
        "import numpy as np"
      ],
      "metadata": {
        "id": "wCWLldnOHbf9"
      },
      "execution_count": 49,
      "outputs": []
    },
    {
      "cell_type": "code",
      "source": [
        "# Device Configuration: We require a Cuda GPU\n",
        "device = torch.device(\"cuda\" if torch.cuda.is_available() else \"cuda\")\n",
        "\n",
        "# Model hyperparameters\n",
        "num_epochs=10\n",
        "batch_size=32\n",
        "learning_rate=0.001\n",
        "\n",
        "# Apply preprocessing transforms to input images.\n",
        "transform = transforms.Compose(\n",
        "    [\n",
        "        transforms.ToTensor(),\n",
        "        transforms.Normalize((0.5, 0.5, 0.5), (0.5, 0.5, 0.5))\n",
        "    ]\n",
        ")\n",
        "\n",
        "# Load CIFAR10 dataset:\n",
        "## 60,000 colour (3 channel) images with 10 target classes with 6000 images per class\n",
        "train_dataset = torchvision.datasets.CIFAR10(root=\"./data\",\n",
        "                                             download=True,\n",
        "                                             train=True,\n",
        "                                             transform=transform\n",
        "                                             )\n",
        "\n",
        "test_dataset = torchvision.datasets.CIFAR10(root='./data',\n",
        "                                            train=False,\n",
        "                                            download=True,\n",
        "                                            transform=transform\n",
        "                                            )\n",
        "\n",
        "train_loader = torch.utils.data.DataLoader(train_dataset,\n",
        "                                           batch_size=batch_size,\n",
        "                                           shuffle=True)\n",
        "\n",
        "test_loader = torch.utils.data.DataLoader(test_dataset,\n",
        "                                          batch_size=batch_size,\n",
        "                                          shuffle=False)\n",
        "\n",
        "classes = ('plane', 'car', 'bird', 'cat',\n",
        "           'deer', 'dog', 'frog', 'horse', 'ship', 'truck')\n",
        "\n",
        "def imshow(imgs):\n",
        "    imgs = imgs / 2 + 0.5   # unnormalize\n",
        "    npimgs = imgs.numpy()\n",
        "    plt.imshow(np.transpose(npimgs, (1, 2, 0)))\n",
        "    plt.show()\n",
        "\n",
        "# one batch of random training images\n",
        "dataiter = iter(train_loader)\n",
        "images, labels = next(dataiter)\n",
        "img_grid = torchvision.utils.make_grid(images[0:25], nrow=5)\n",
        "imshow(img_grid)\n",
        "\n"
      ],
      "metadata": {
        "colab": {
          "base_uri": "https://localhost:8080/",
          "height": 469
        },
        "id": "cGHDYwaljfN2",
        "outputId": "e71af2e8-5ca1-4505-8afe-e888978fe001"
      },
      "execution_count": 52,
      "outputs": [
        {
          "output_type": "stream",
          "name": "stdout",
          "text": [
            "Files already downloaded and verified\n",
            "Files already downloaded and verified\n"
          ]
        },
        {
          "output_type": "display_data",
          "data": {
            "text/plain": [
              "<Figure size 640x480 with 1 Axes>"
            ],
            "image/png": "[encoded data removed]"
          },
          "metadata": {}
        }
      ]
    },
    {
      "cell_type": "code",
      "source": [
        "# Define Model class\n",
        "class ConvNet(nn.Module):\n",
        "  def __init__(self):\n",
        "    super(ConvNet, self).__init__()\n",
        "    self.conv1 = nn.Conv2d(3, 32, 3)\n",
        "    self.pool = nn.MaxPool2d(2, 2)\n",
        "    self.conv2 = nn.Conv2d(32, 64, 3)\n",
        "    self.conv3 = nn.Conv2d(64, 64, 3)\n",
        "    self.fc1 = nn.Linear(64*4*4, 64)\n",
        "    self.fc2 = nn.Linear(64, 10)\n",
        "\n",
        "  def forward(self, x):\n",
        "      # [batch_size (N), number of channels = 3, width = 32, height = 32]\n",
        "      x = F.relu(self.conv1(x)) # [N, 32, 30, 30]\n",
        "      x = self.pool(x) # [N, 32, 15, 15]\n",
        "      x = F.relu(self.conv2(x)) #[N, 64, 13, 13]\n",
        "      x = self.pool(x) #[N, 64, 6, 6]\n",
        "      x = F.relu(self.conv3(x)) #[N, 64, 4, 4]\n",
        "      x = torch.flatten(x, 1) #[N, 64*4*4=1024]\n",
        "      x = F.relu(self.fc1(x)) #[N, 64]\n",
        "      x = self.fc2(x) #[N, 10]\n",
        "      return x\n",
        "\n",
        "# Put model on GPU\n",
        "model = ConvNet().to(device)\n",
        "\n",
        "# Define Loss function and optimiser\n",
        "cross_entropy_loss = nn.CrossEntropyLoss()\n",
        "optimiser = torch.optim.AdamW(model.parameters(), lr=learning_rate)"
      ],
      "metadata": {
        "id": "weGRpKy-lW_w"
      },
      "execution_count": 57,
      "outputs": []
    },
    {
      "cell_type": "code",
      "source": [
        "# Training Loop\n",
        "n_total_steps = len(train_loader)\n",
        "for epoch in range(num_epochs):\n",
        "  running_loss = 0.0\n",
        "\n",
        "  for i, (images, labels) in enumerate(train_loader):\n",
        "    images = images.to(device)\n",
        "    labels = labels.to(device)\n",
        "\n",
        "    # Forward Pass\n",
        "    predictions = model.forward(images)\n",
        "\n",
        "    # Compute Loss\n",
        "    l = cross_entropy_loss(predictions, labels)\n",
        "\n",
        "    # Compute Gradients\n",
        "    l.backward()\n",
        "\n",
        "    # Update weights\n",
        "    optimiser.step()\n",
        "\n",
        "    # Reduce gradients to zero\n",
        "    optimiser.zero_grad()\n",
        "\n",
        "    running_loss += l.item()\n",
        "\n",
        "  print(f'[{epoch + 1}] loss: {running_loss / n_total_steps:.3f}')\n"
      ],
      "metadata": {
        "colab": {
          "base_uri": "https://localhost:8080/"
        },
        "id": "ShLiLYCgnAXH",
        "outputId": "18263925-1115-458b-9c55-28baebb3d282"
      },
      "execution_count": 58,
      "outputs": [
        {
          "output_type": "stream",
          "name": "stdout",
          "text": [
            "[1] loss: 1.492\n",
            "[2] loss: 1.134\n",
            "[3] loss: 0.972\n",
            "[4] loss: 0.861\n",
            "[5] loss: 0.781\n",
            "[6] loss: 0.727\n",
            "[7] loss: 0.679\n",
            "[8] loss: 0.642\n",
            "[9] loss: 0.602\n",
            "[10] loss: 0.568\n"
          ]
        }
      ]
    },
    {
      "cell_type": "code",
      "source": [
        "# Save Model: We save a model's state dictionary\n",
        "PATH = \"./cnn.pth\"\n",
        "torch.save(model.state_dict(), PATH)"
      ],
      "metadata": {
        "id": "X8dUfgN6nDAB"
      },
      "execution_count": 59,
      "outputs": []
    },
    {
      "cell_type": "code",
      "source": [
        "# Load Model for Inference\n",
        "loaded_model = ConvNet() # Model skeleton must be initialised\n",
        "loaded_model.load_state_dict(torch.load(PATH))\n",
        "loaded_model.to(device) # Put Model onto GPU\n",
        "loaded_model.eval() # For some specific layers/parts of the model that behave differently during training and inference (evaluating) time. For example, Dropouts Layers, BatchNorm Layers etc. You need to turn them off during model evaluation, and .eval() will do it for you.\n"
      ],
      "metadata": {
        "colab": {
          "base_uri": "https://localhost:8080/"
        },
        "id": "rXp1TIrWpB5L",
        "outputId": "a4976180-98df-46d2-8464-952dd322f10d"
      },
      "execution_count": 60,
      "outputs": [
        {
          "output_type": "execute_result",
          "data": {
            "text/plain": [
              "ConvNet(\n",
              "  (conv1): Conv2d(3, 32, kernel_size=(3, 3), stride=(1, 1))\n",
              "  (pool): MaxPool2d(kernel_size=2, stride=2, padding=0, dilation=1, ceil_mode=False)\n",
              "  (conv2): Conv2d(32, 64, kernel_size=(3, 3), stride=(1, 1))\n",
              "  (conv3): Conv2d(64, 64, kernel_size=(3, 3), stride=(1, 1))\n",
              "  (fc1): Linear(in_features=1024, out_features=64, bias=True)\n",
              "  (fc2): Linear(in_features=64, out_features=10, bias=True)\n",
              ")"
            ]
          },
          "metadata": {},
          "execution_count": 60
        }
      ]
    },
    {
      "cell_type": "code",
      "source": [
        "# Inference on Test Dataloader\n",
        "test_predictions_original = []\n",
        "test_predictions_loaded = []\n",
        "test_labels = []\n",
        "\n",
        "with torch.no_grad():\n",
        "  for images, labels in test_loader:\n",
        "    images = images.to(device)\n",
        "    labels = labels.to(device)\n",
        "\n",
        "    test_labels.append(labels)\n",
        "\n",
        "    original_model_predictions = model.forward(images)\n",
        "    test_predictions_original.append(original_model_predictions)\n",
        "\n",
        "    loaded_model_predictions = loaded_model.forward(images)\n",
        "    test_predictions_loaded.append(loaded_model_predictions)"
      ],
      "metadata": {
        "id": "c4HNCQOlqC6_"
      },
      "execution_count": 61,
      "outputs": []
    },
    {
      "cell_type": "code",
      "source": [
        "# Model Accuracy\n",
        "test_predictions_original_tensor = torch.concat([torch.argmax(batch, axis=1) for batch in test_predictions_original])\n",
        "test_predictions_loaded_tensor = torch.concat([torch.argmax(batch, axis=1) for batch in test_predictions_loaded])\n",
        "test_labels_tensor = torch.concat(test_labels)"
      ],
      "metadata": {
        "id": "jo2Ukl0Qq3bI"
      },
      "execution_count": 62,
      "outputs": []
    },
    {
      "cell_type": "code",
      "source": [
        "test_prediction_original_deviations = test_labels_tensor - test_predictions_original_tensor\n",
        "test_prediction_loaded_deviations = test_labels_tensor - test_predictions_loaded_tensor\n",
        "\n",
        "test_accuracy_original = torch.where(test_prediction_original_deviations == 0, 1, 0)\n",
        "test_accuracy_original = test_accuracy_original.to(torch.float64)\n",
        "\n",
        "test_accuracy_loaded = torch.where(test_prediction_loaded_deviations == 0, 1, 0)\n",
        "test_accuracy_loaded = test_accuracy_loaded.to(torch.float64)\n",
        "\n",
        "print(\"original model accuracy:\\n\", test_accuracy_original.mean().item())\n",
        "print(\"loaded model accuracy:\\n\", test_accuracy_loaded.mean().item())\n",
        "\n"
      ],
      "metadata": {
        "colab": {
          "base_uri": "https://localhost:8080/"
        },
        "id": "bv3Y46t1rSxS",
        "outputId": "90138fa7-1d87-4e9d-8b4a-547caf0acf05"
      },
      "execution_count": 64,
      "outputs": [
        {
          "output_type": "stream",
          "name": "stdout",
          "text": [
            "original model accuracy:\n",
            " 0.7243\n",
            "loaded model accuracy:\n",
            " 0.7243\n"
          ]
        }
      ]
    },
    {
      "cell_type": "code",
      "source": [],
      "metadata": {
        "id": "GdspqF5sry2J"
      },
      "execution_count": null,
      "outputs": []
    },
    {
      "cell_type": "markdown",
      "source": [
        "# Creating PyTorch Datasets\n",
        "\n",
        "A custom Dataset class must implement at least three functions: __init__, __len__, and __getitem__.\n",
        "\n",
        "1. __init__:\n",
        "2. __len__: The __len__ function returns the number of samples in our dataset.\n",
        "3. __getitem__: The __getitem__ function loads and returns a sample from the dataset at the given index idx.\n",
        "\n",
        "After we have a Datasets object, we can pass it to a DataLoader constructor to batch the data for modelling."
      ],
      "metadata": {
        "id": "i8S_wJKctKcg"
      }
    },
    {
      "cell_type": "code",
      "source": [
        "import torch\n",
        "import torchvision\n",
        "from torch.utils.data import Dataset, DataLoader\n",
        "import numpy as np\n",
        "import pandas as pd\n",
        "import math"
      ],
      "metadata": {
        "id": "3iXpJDBNtOjk"
      },
      "execution_count": 5,
      "outputs": []
    },
    {
      "cell_type": "code",
      "source": [
        "# Look at Wine CSV data\n",
        "wine = pd.read_csv(\"./wine.csv\")\n",
        "wine"
      ],
      "metadata": {
        "colab": {
          "base_uri": "https://localhost:8080/",
          "height": 443
        },
        "id": "mAWtq7n70JHw",
        "outputId": "24e6c42e-802a-4d35-831b-1b9b795903ba"
      },
      "execution_count": 6,
      "outputs": [
        {
          "output_type": "execute_result",
          "data": {
            "text/plain": [
              "     Wine  Alcohol  Malic.acid   Ash   Acl   Mg  Phenols  Flavanoids  \\\n",
              "0       1    14.23        1.71  2.43  15.6  127     2.80        3.06   \n",
              "1       1    13.20        1.78  2.14  11.2  100     2.65        2.76   \n",
              "2       1    13.16        2.36  2.67  18.6  101     2.80        3.24   \n",
              "3       1    14.37        1.95  2.50  16.8  113     3.85        3.49   \n",
              "4       1    13.24        2.59  2.87  21.0  118     2.80        2.69   \n",
              "..    ...      ...         ...   ...   ...  ...      ...         ...   \n",
              "173     3    13.71        5.65  2.45  20.5   95     1.68        0.61   \n",
              "174     3    13.40        3.91  2.48  23.0  102     1.80        0.75   \n",
              "175     3    13.27        4.28  2.26  20.0  120     1.59        0.69   \n",
              "176     3    13.17        2.59  2.37  20.0  120     1.65        0.68   \n",
              "177     3    14.13        4.10  2.74  24.5   96     2.05        0.76   \n",
              "\n",
              "     Nonflavanoid.phenols  Proanth  Color.int   Hue    OD  Proline  \n",
              "0                    0.28     2.29       5.64  1.04  3.92     1065  \n",
              "1                    0.26     1.28       4.38  1.05  3.40     1050  \n",
              "2                    0.30     2.81       5.68  1.03  3.17     1185  \n",
              "3                    0.24     2.18       7.80  0.86  3.45     1480  \n",
              "4                    0.39     1.82       4.32  1.04  2.93      735  \n",
              "..                    ...      ...        ...   ...   ...      ...  \n",
              "173                  0.52     1.06       7.70  0.64  1.74      740  \n",
              "174                  0.43     1.41       7.30  0.70  1.56      750  \n",
              "175                  0.43     1.35      10.20  0.59  1.56      835  \n",
              "176                  0.53     1.46       9.30  0.60  1.62      840  \n",
              "177                  0.56     1.35       9.20  0.61  1.60      560  \n",
              "\n",
              "[178 rows x 14 columns]"
            ],
            "text/html": [
              "\n",
              "  <div id=\"df-3d8e6449-5e6b-4bec-9ee5-8a2a3a2a4ee7\" class=\"colab-df-container\">\n",
              "    <div>\n",
              "<style scoped>\n",
              "    .dataframe tbody tr th:only-of-type {\n",
              "        vertical-align: middle;\n",
              "    }\n",
              "\n",
              "    .dataframe tbody tr th {\n",
              "        vertical-align: top;\n",
              "    }\n",
              "\n",
              "    .dataframe thead th {\n",
              "        text-align: right;\n",
              "    }\n",
              "</style>\n",
              "<table border=\"1\" class=\"dataframe\">\n",
              "  <thead>\n",
              "    <tr style=\"text-align: right;\">\n",
              "      <th></th>\n",
              "      <th>Wine</th>\n",
              "      <th>Alcohol</th>\n",
              "      <th>Malic.acid</th>\n",
              "      <th>Ash</th>\n",
              "      <th>Acl</th>\n",
              "      <th>Mg</th>\n",
              "      <th>Phenols</th>\n",
              "      <th>Flavanoids</th>\n",
              "      <th>Nonflavanoid.phenols</th>\n",
              "      <th>Proanth</th>\n",
              "      <th>Color.int</th>\n",
              "      <th>Hue</th>\n",
              "      <th>OD</th>\n",
              "      <th>Proline</th>\n",
              "    </tr>\n",
              "  </thead>\n",
              "  <tbody>\n",
              "    <tr>\n",
              "      <th>0</th>\n",
              "      <td>1</td>\n",
              "      <td>14.23</td>\n",
              "      <td>1.71</td>\n",
              "      <td>2.43</td>\n",
              "      <td>15.6</td>\n",
              "      <td>127</td>\n",
              "      <td>2.80</td>\n",
              "      <td>3.06</td>\n",
              "      <td>0.28</td>\n",
              "      <td>2.29</td>\n",
              "      <td>5.64</td>\n",
              "      <td>1.04</td>\n",
              "      <td>3.92</td>\n",
              "      <td>1065</td>\n",
              "    </tr>\n",
              "    <tr>\n",
              "      <th>1</th>\n",
              "      <td>1</td>\n",
              "      <td>13.20</td>\n",
              "      <td>1.78</td>\n",
              "      <td>2.14</td>\n",
              "      <td>11.2</td>\n",
              "      <td>100</td>\n",
              "      <td>2.65</td>\n",
              "      <td>2.76</td>\n",
              "      <td>0.26</td>\n",
              "      <td>1.28</td>\n",
              "      <td>4.38</td>\n",
              "      <td>1.05</td>\n",
              "      <td>3.40</td>\n",
              "      <td>1050</td>\n",
              "    </tr>\n",
              "    <tr>\n",
              "      <th>2</th>\n",
              "      <td>1</td>\n",
              "      <td>13.16</td>\n",
              "      <td>2.36</td>\n",
              "      <td>2.67</td>\n",
              "      <td>18.6</td>\n",
              "      <td>101</td>\n",
              "      <td>2.80</td>\n",
              "      <td>3.24</td>\n",
              "      <td>0.30</td>\n",
              "      <td>2.81</td>\n",
              "      <td>5.68</td>\n",
              "      <td>1.03</td>\n",
              "      <td>3.17</td>\n",
              "      <td>1185</td>\n",
              "    </tr>\n",
              "    <tr>\n",
              "      <th>3</th>\n",
              "      <td>1</td>\n",
              "      <td>14.37</td>\n",
              "      <td>1.95</td>\n",
              "      <td>2.50</td>\n",
              "      <td>16.8</td>\n",
              "      <td>113</td>\n",
              "      <td>3.85</td>\n",
              "      <td>3.49</td>\n",
              "      <td>0.24</td>\n",
              "      <td>2.18</td>\n",
              "      <td>7.80</td>\n",
              "      <td>0.86</td>\n",
              "      <td>3.45</td>\n",
              "      <td>1480</td>\n",
              "    </tr>\n",
              "    <tr>\n",
              "      <th>4</th>\n",
              "      <td>1</td>\n",
              "      <td>13.24</td>\n",
              "      <td>2.59</td>\n",
              "      <td>2.87</td>\n",
              "      <td>21.0</td>\n",
              "      <td>118</td>\n",
              "      <td>2.80</td>\n",
              "      <td>2.69</td>\n",
              "      <td>0.39</td>\n",
              "      <td>1.82</td>\n",
              "      <td>4.32</td>\n",
              "      <td>1.04</td>\n",
              "      <td>2.93</td>\n",
              "      <td>735</td>\n",
              "    </tr>\n",
              "    <tr>\n",
              "      <th>...</th>\n",
              "      <td>...</td>\n",
              "      <td>...</td>\n",
              "      <td>...</td>\n",
              "      <td>...</td>\n",
              "      <td>...</td>\n",
              "      <td>...</td>\n",
              "      <td>...</td>\n",
              "      <td>...</td>\n",
              "      <td>...</td>\n",
              "      <td>...</td>\n",
              "      <td>...</td>\n",
              "      <td>...</td>\n",
              "      <td>...</td>\n",
              "      <td>...</td>\n",
              "    </tr>\n",
              "    <tr>\n",
              "      <th>173</th>\n",
              "      <td>3</td>\n",
              "      <td>13.71</td>\n",
              "      <td>5.65</td>\n",
              "      <td>2.45</td>\n",
              "      <td>20.5</td>\n",
              "      <td>95</td>\n",
              "      <td>1.68</td>\n",
              "      <td>0.61</td>\n",
              "      <td>0.52</td>\n",
              "      <td>1.06</td>\n",
              "      <td>7.70</td>\n",
              "      <td>0.64</td>\n",
              "      <td>1.74</td>\n",
              "      <td>740</td>\n",
              "    </tr>\n",
              "    <tr>\n",
              "      <th>174</th>\n",
              "      <td>3</td>\n",
              "      <td>13.40</td>\n",
              "      <td>3.91</td>\n",
              "      <td>2.48</td>\n",
              "      <td>23.0</td>\n",
              "      <td>102</td>\n",
              "      <td>1.80</td>\n",
              "      <td>0.75</td>\n",
              "      <td>0.43</td>\n",
              "      <td>1.41</td>\n",
              "      <td>7.30</td>\n",
              "      <td>0.70</td>\n",
              "      <td>1.56</td>\n",
              "      <td>750</td>\n",
              "    </tr>\n",
              "    <tr>\n",
              "      <th>175</th>\n",
              "      <td>3</td>\n",
              "      <td>13.27</td>\n",
              "      <td>4.28</td>\n",
              "      <td>2.26</td>\n",
              "      <td>20.0</td>\n",
              "      <td>120</td>\n",
              "      <td>1.59</td>\n",
              "      <td>0.69</td>\n",
              "      <td>0.43</td>\n",
              "      <td>1.35</td>\n",
              "      <td>10.20</td>\n",
              "      <td>0.59</td>\n",
              "      <td>1.56</td>\n",
              "      <td>835</td>\n",
              "    </tr>\n",
              "    <tr>\n",
              "      <th>176</th>\n",
              "      <td>3</td>\n",
              "      <td>13.17</td>\n",
              "      <td>2.59</td>\n",
              "      <td>2.37</td>\n",
              "      <td>20.0</td>\n",
              "      <td>120</td>\n",
              "      <td>1.65</td>\n",
              "      <td>0.68</td>\n",
              "      <td>0.53</td>\n",
              "      <td>1.46</td>\n",
              "      <td>9.30</td>\n",
              "      <td>0.60</td>\n",
              "      <td>1.62</td>\n",
              "      <td>840</td>\n",
              "    </tr>\n",
              "    <tr>\n",
              "      <th>177</th>\n",
              "      <td>3</td>\n",
              "      <td>14.13</td>\n",
              "      <td>4.10</td>\n",
              "      <td>2.74</td>\n",
              "      <td>24.5</td>\n",
              "      <td>96</td>\n",
              "      <td>2.05</td>\n",
              "      <td>0.76</td>\n",
              "      <td>0.56</td>\n",
              "      <td>1.35</td>\n",
              "      <td>9.20</td>\n",
              "      <td>0.61</td>\n",
              "      <td>1.60</td>\n",
              "      <td>560</td>\n",
              "    </tr>\n",
              "  </tbody>\n",
              "</table>\n",
              "<p>178 rows × 14 columns</p>\n",
              "</div>\n",
              "    <div class=\"colab-df-buttons\">\n",
              "\n",
              "  <div class=\"colab-df-container\">\n",
              "    <button class=\"colab-df-convert\" onclick=\"convertToInteractive('df-3d8e6449-5e6b-4bec-9ee5-8a2a3a2a4ee7')\"\n",
              "            title=\"Convert this dataframe to an interactive table.\"\n",
              "            style=\"display:none;\">\n",
              "\n",
              "  <svg xmlns=\"http://www.w3.org/2000/svg\" height=\"24px\" viewBox=\"0 -960 960 960\">\n",
              "    <path d=\"M120-120v-720h720v720H120Zm60-500h600v-160H180v160Zm220 220h160v-160H400v160Zm0 220h160v-160H400v160ZM180-400h160v-160H180v160Zm440 0h160v-160H620v160ZM180-180h160v-160H180v160Zm440 0h160v-160H620v160Z\"/>\n",
              "  </svg>\n",
              "    </button>\n",
              "\n",
              "  <style>\n",
              "    .colab-df-container {\n",
              "      display:flex;\n",
              "      gap: 12px;\n",
              "    }\n",
              "\n",
              "    .colab-df-convert {\n",
              "      background-color: #E8F0FE;\n",
              "      border: none;\n",
              "      border-radius: 50%;\n",
              "      cursor: pointer;\n",
              "      display: none;\n",
              "      fill: #1967D2;\n",
              "      height: 32px;\n",
              "      padding: 0 0 0 0;\n",
              "      width: 32px;\n",
              "    }\n",
              "\n",
              "    .colab-df-convert:hover {\n",
              "      background-color: #E2EBFA;\n",
              "      box-shadow: 0px 1px 2px rgba(60, 64, 67, 0.3), 0px 1px 3px 1px rgba(60, 64, 67, 0.15);\n",
              "      fill: #174EA6;\n",
              "    }\n",
              "\n",
              "    .colab-df-buttons div {\n",
              "      margin-bottom: 4px;\n",
              "    }\n",
              "\n",
              "    [theme=dark] .colab-df-convert {\n",
              "      background-color: #3B4455;\n",
              "      fill: #D2E3FC;\n",
              "    }\n",
              "\n",
              "    [theme=dark] .colab-df-convert:hover {\n",
              "      background-color: #434B5C;\n",
              "      box-shadow: 0px 1px 3px 1px rgba(0, 0, 0, 0.15);\n",
              "      filter: drop-shadow(0px 1px 2px rgba(0, 0, 0, 0.3));\n",
              "      fill: #FFFFFF;\n",
              "    }\n",
              "  </style>\n",
              "\n",
              "    <script>\n",
              "      const buttonEl =\n",
              "        document.querySelector('#df-3d8e6449-5e6b-4bec-9ee5-8a2a3a2a4ee7 button.colab-df-convert');\n",
              "      buttonEl.style.display =\n",
              "        google.colab.kernel.accessAllowed ? 'block' : 'none';\n",
              "\n",
              "      async function convertToInteractive(key) {\n",
              "        const element = document.querySelector('#df-3d8e6449-5e6b-4bec-9ee5-8a2a3a2a4ee7');\n",
              "        const dataTable =\n",
              "          await google.colab.kernel.invokeFunction('convertToInteractive',\n",
              "                                                    [key], {});\n",
              "        if (!dataTable) return;\n",
              "\n",
              "        const docLinkHtml = 'Like what you see? Visit the ' +\n",
              "          '<a target=\"_blank\" href=https://colab.research.google.com/notebooks/data_table.ipynb>data table notebook</a>'\n",
              "          + ' to learn more about interactive tables.';\n",
              "        element.innerHTML = '';\n",
              "        dataTable['output_type'] = 'display_data';\n",
              "        await google.colab.output.renderOutput(dataTable, element);\n",
              "        const docLink = document.createElement('div');\n",
              "        docLink.innerHTML = docLinkHtml;\n",
              "        element.appendChild(docLink);\n",
              "      }\n",
              "    </script>\n",
              "  </div>\n",
              "\n",
              "\n",
              "<div id=\"df-3ebe8580-cba8-477f-88c7-21ba6f6a7b78\">\n",
              "  <button class=\"colab-df-quickchart\" onclick=\"quickchart('df-3ebe8580-cba8-477f-88c7-21ba6f6a7b78')\"\n",
              "            title=\"Suggest charts\"\n",
              "            style=\"display:none;\">\n",
              "\n",
              "<svg xmlns=\"http://www.w3.org/2000/svg\" height=\"24px\"viewBox=\"0 0 24 24\"\n",
              "     width=\"24px\">\n",
              "    <g>\n",
              "        <path d=\"M19 3H5c-1.1 0-2 .9-2 2v14c0 1.1.9 2 2 2h14c1.1 0 2-.9 2-2V5c0-1.1-.9-2-2-2zM9 17H7v-7h2v7zm4 0h-2V7h2v10zm4 0h-2v-4h2v4z\"/>\n",
              "    </g>\n",
              "</svg>\n",
              "  </button>\n",
              "\n",
              "<style>\n",
              "  .colab-df-quickchart {\n",
              "      --bg-color: #E8F0FE;\n",
              "      --fill-color: #1967D2;\n",
              "      --hover-bg-color: #E2EBFA;\n",
              "      --hover-fill-color: #174EA6;\n",
              "      --disabled-fill-color: #AAA;\n",
              "      --disabled-bg-color: #DDD;\n",
              "  }\n",
              "\n",
              "  [theme=dark] .colab-df-quickchart {\n",
              "      --bg-color: #3B4455;\n",
              "      --fill-color: #D2E3FC;\n",
              "      --hover-bg-color: #434B5C;\n",
              "      --hover-fill-color: #FFFFFF;\n",
              "      --disabled-bg-color: #3B4455;\n",
              "      --disabled-fill-color: #666;\n",
              "  }\n",
              "\n",
              "  .colab-df-quickchart {\n",
              "    background-color: var(--bg-color);\n",
              "    border: none;\n",
              "    border-radius: 50%;\n",
              "    cursor: pointer;\n",
              "    display: none;\n",
              "    fill: var(--fill-color);\n",
              "    height: 32px;\n",
              "    padding: 0;\n",
              "    width: 32px;\n",
              "  }\n",
              "\n",
              "  .colab-df-quickchart:hover {\n",
              "    background-color: var(--hover-bg-color);\n",
              "    box-shadow: 0 1px 2px rgba(60, 64, 67, 0.3), 0 1px 3px 1px rgba(60, 64, 67, 0.15);\n",
              "    fill: var(--button-hover-fill-color);\n",
              "  }\n",
              "\n",
              "  .colab-df-quickchart-complete:disabled,\n",
              "  .colab-df-quickchart-complete:disabled:hover {\n",
              "    background-color: var(--disabled-bg-color);\n",
              "    fill: var(--disabled-fill-color);\n",
              "    box-shadow: none;\n",
              "  }\n",
              "\n",
              "  .colab-df-spinner {\n",
              "    border: 2px solid var(--fill-color);\n",
              "    border-color: transparent;\n",
              "    border-bottom-color: var(--fill-color);\n",
              "    animation:\n",
              "      spin 1s steps(1) infinite;\n",
              "  }\n",
              "\n",
              "  @keyframes spin {\n",
              "    0% {\n",
              "      border-color: transparent;\n",
              "      border-bottom-color: var(--fill-color);\n",
              "      border-left-color: var(--fill-color);\n",
              "    }\n",
              "    20% {\n",
              "      border-color: transparent;\n",
              "      border-left-color: var(--fill-color);\n",
              "      border-top-color: var(--fill-color);\n",
              "    }\n",
              "    30% {\n",
              "      border-color: transparent;\n",
              "      border-left-color: var(--fill-color);\n",
              "      border-top-color: var(--fill-color);\n",
              "      border-right-color: var(--fill-color);\n",
              "    }\n",
              "    40% {\n",
              "      border-color: transparent;\n",
              "      border-right-color: var(--fill-color);\n",
              "      border-top-color: var(--fill-color);\n",
              "    }\n",
              "    60% {\n",
              "      border-color: transparent;\n",
              "      border-right-color: var(--fill-color);\n",
              "    }\n",
              "    80% {\n",
              "      border-color: transparent;\n",
              "      border-right-color: var(--fill-color);\n",
              "      border-bottom-color: var(--fill-color);\n",
              "    }\n",
              "    90% {\n",
              "      border-color: transparent;\n",
              "      border-bottom-color: var(--fill-color);\n",
              "    }\n",
              "  }\n",
              "</style>\n",
              "\n",
              "  <script>\n",
              "    async function quickchart(key) {\n",
              "      const quickchartButtonEl =\n",
              "        document.querySelector('#' + key + ' button');\n",
              "      quickchartButtonEl.disabled = true;  // To prevent multiple clicks.\n",
              "      quickchartButtonEl.classList.add('colab-df-spinner');\n",
              "      try {\n",
              "        const charts = await google.colab.kernel.invokeFunction(\n",
              "            'suggestCharts', [key], {});\n",
              "      } catch (error) {\n",
              "        console.error('Error during call to suggestCharts:', error);\n",
              "      }\n",
              "      quickchartButtonEl.classList.remove('colab-df-spinner');\n",
              "      quickchartButtonEl.classList.add('colab-df-quickchart-complete');\n",
              "    }\n",
              "    (() => {\n",
              "      let quickchartButtonEl =\n",
              "        document.querySelector('#df-3ebe8580-cba8-477f-88c7-21ba6f6a7b78 button');\n",
              "      quickchartButtonEl.style.display =\n",
              "        google.colab.kernel.accessAllowed ? 'block' : 'none';\n",
              "    })();\n",
              "  </script>\n",
              "</div>\n",
              "    </div>\n",
              "  </div>\n"
            ]
          },
          "metadata": {},
          "execution_count": 6
        }
      ]
    },
    {
      "cell_type": "code",
      "source": [
        "# Create Custom Dataset for the Wine CSV data\n",
        "class WineDataset(Dataset):\n",
        "  def __init__(self):\n",
        "    # Loading data\n",
        "    xy = np.loadtxt(\"./wine.csv\", delimiter=\",\", dtype=np.float32, skiprows=1)\n",
        "    self.x = torch.from_numpy(xy[:, 1:]) # 0th column is target\n",
        "    self.y = torch.from_numpy(xy[:, [0]])\n",
        "    self.num_samples = xy.shape[0]\n",
        "\n",
        "  def __getitem__(self, index):\n",
        "    return self.x[index], self.y[index]\n",
        "\n",
        "  def __len__(self):\n",
        "    return self.num_samples\n"
      ],
      "metadata": {
        "id": "ATzjcBzltOp_"
      },
      "execution_count": 8,
      "outputs": []
    },
    {
      "cell_type": "code",
      "source": [
        "wine_dataset = WineDataset()\n",
        "wine_dataset[0]\n",
        "features, labels = wine_dataset[0]\n",
        "features, labels"
      ],
      "metadata": {
        "colab": {
          "base_uri": "https://localhost:8080/"
        },
        "id": "8xdYWTJ2tOvh",
        "outputId": "c4da4333-dc0e-4f7d-fb47-62f8104c3c8d"
      },
      "execution_count": 12,
      "outputs": [
        {
          "output_type": "execute_result",
          "data": {
            "text/plain": [
              "(tensor([1.4230e+01, 1.7100e+00, 2.4300e+00, 1.5600e+01, 1.2700e+02, 2.8000e+00,\n",
              "         3.0600e+00, 2.8000e-01, 2.2900e+00, 5.6400e+00, 1.0400e+00, 3.9200e+00,\n",
              "         1.0650e+03]),\n",
              " tensor([1.]))"
            ]
          },
          "metadata": {},
          "execution_count": 12
        }
      ]
    },
    {
      "cell_type": "code",
      "source": [
        "len(wine_dataset) # 178 samples"
      ],
      "metadata": {
        "colab": {
          "base_uri": "https://localhost:8080/"
        },
        "id": "5awLyMDHtO1Z",
        "outputId": "310405c9-3c86-4e98-e261-050eb2cc262a"
      },
      "execution_count": 13,
      "outputs": [
        {
          "output_type": "execute_result",
          "data": {
            "text/plain": [
              "178"
            ]
          },
          "metadata": {},
          "execution_count": 13
        }
      ]
    },
    {
      "cell_type": "code",
      "source": [],
      "metadata": {
        "id": "NBc666qutO7p"
      },
      "execution_count": null,
      "outputs": []
    },
    {
      "cell_type": "code",
      "source": [],
      "metadata": {
        "id": "9tEgXEq9tPJa"
      },
      "execution_count": null,
      "outputs": []
    },
    {
      "cell_type": "code",
      "source": [],
      "metadata": {
        "id": "uZpicyTstNy9"
      },
      "execution_count": null,
      "outputs": []
    }
  ]
}